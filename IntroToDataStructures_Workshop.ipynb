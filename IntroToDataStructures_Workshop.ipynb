{
 "cells": [
  {
   "cell_type": "markdown",
   "metadata": {},
   "source": [
    "![Image Description](./images/RectangularVsNonRectangular.png)\n"
   ]
  },
  {
   "cell_type": "markdown",
   "metadata": {},
   "source": [
    "# Environment Setup\n",
    "---\n",
    "\n",
    "- Start by creating a Virtual Environment for your project\n",
    "\n",
    "Before running any code in this notebook, it's important to set up a clean Python environment to manage dependencies. We recommend using a **VENV-type virtual environment** in **Visual Studio Code (VSC)**. Follow these steps:\n",
    "\n",
    "### ✅ Steps to Create a Virtual Environment in VSC\n",
    "\n",
    "1. **Open your project folder** in Visual Studio Code.\n",
    "\n",
    "2. **Open the terminal**:\n",
    "   - Go to `View` > `Terminal` or press `Ctrl + `` (backtick).\n",
    "\n",
    "3. **Create the virtual environment** by running:\n",
    "   ```bash\n",
    "   python -m venv venv\n",
    "   ```\n",
    "\n",
    "4. Once the environment is created, you need to **activate it** so that all Python packages you install are scoped to this project only.\n",
    "    On Windows:\n",
    "    ```bash\n",
    "    .\\venv\\Scripts\\activate\n",
    "    ```\n",
    "\n",
    "    On macOS/Linux\n",
    "    ```bash\n",
    "    source venv/bin/activate\n",
    "    ```\n",
    "\n",
    "5. ⚠️ Why Activation Matters\n",
    "Activating the virtual environment ensures that:\n",
    "\n",
    "- All package installations using pip are local to your project.\n",
    "- You avoid modifying the global Python environment, which could affect other projects or system tools.\n",
    "- Your project remains portable and reproducible, especially when sharing with others or deploying."
   ]
  },
  {
   "cell_type": "markdown",
   "metadata": {},
   "source": [
    "### 📦 Installing Required Libraries\n",
    "Once activated, install the required libraries using:"
   ]
  },
  {
   "cell_type": "code",
   "execution_count": null,
   "metadata": {},
   "outputs": [],
   "source": [
    "pip install numpy pandas matplotlib\n",
    "pip install requests sympy ipython"
   ]
  },
  {
   "cell_type": "markdown",
   "metadata": {},
   "source": [
    "# Non-Rectangular Data Structures\n",
    "---\n",
    "\n",
    "- Data that does not fit into a traditional table format.\n",
    "- Examples include JSON, XML, hierarchical, and graph data structures."
   ]
  },
  {
   "cell_type": "markdown",
   "metadata": {},
   "source": [
    "## API Resources\n",
    "\n",
    "* Public APIs for Free (GitHub): https://github.com/public-apis/public-apis\n",
    "* Public APIs for Developers (RapidAPI): https://rapidapi.com/collection/list-of-free-apis\n",
    "* Free and Open Public APIs: https://mixedanalytics.com/blog/list-actually-free-open-no-auth-needed-apis/\n"
   ]
  },
  {
   "cell_type": "markdown",
   "metadata": {},
   "source": [
    "### Fetching JSON Data from an API Endpoint (Example 1)\n",
    "\n",
    "In this example, we will fetch JSON content from a free API endpoint using the `requests` library in Python. The API endpoint we are using is from JSONPlaceholder, which provides a simple REST API for testing and prototyping.\n",
    "\n",
    "1. **Import the `requests` library**: This library allows us to send HTTP requests in Python.\n",
    "2. **Define the API endpoint**: We specify the URL of the API endpoint we want to fetch data from.\n",
    "3. **Send a GET request**: We use the `requests.get()` method to send a GET request to the API endpoint.\n",
    "4. **Check if the request was successful**: We check the status code of the response to ensure the request was successful (status code 200).\n",
    "5. **Parse the JSON content**: If the request was successful, we use the `.json()` method to parse the JSON content of the response.\n",
    "6. **Display the JSON content**: Finally, we print the JSON content to the console.\n"
   ]
  },
  {
   "cell_type": "code",
   "execution_count": 1,
   "metadata": {},
   "outputs": [
    {
     "name": "stdout",
     "output_type": "stream",
     "text": [
      "{'userId': 1, 'id': 1, 'title': 'sunt aut facere repellat provident occaecati excepturi optio reprehenderit', 'body': 'quia et suscipit\\nsuscipit recusandae consequuntur expedita et cum\\nreprehenderit molestiae ut ut quas totam\\nnostrum rerum est autem sunt rem eveniet architecto'}\n"
     ]
    }
   ],
   "source": [
    "import requests\n",
    "\n",
    "# Define the API endpoint\n",
    "url = \"https://jsonplaceholder.typicode.com/posts/1\"\n",
    "\n",
    "# Send a GET request to the API endpoint\n",
    "response = requests.get(url)\n",
    "\n",
    "# Check if the request was successful\n",
    "if response.status_code == 200:\n",
    "    # Parse the JSON content\n",
    "    data = response.json()\n",
    "    # Display the JSON content\n",
    "    print(data)\n",
    "else:\n",
    "    print(f\"Failed to retrieve data: {response.status_code}\")\n"
   ]
  },
  {
   "cell_type": "markdown",
   "metadata": {},
   "source": [
    "### Fetching JSON Data from an API Endpoint (Example 2)\n",
    "\n",
    "In this example, we will fetch JSON content from a free API endpoint using the `requests` library in Python. The API endpoint we are using is from the Dog CEO's Dog API, which provides random pictures of dogs.\n"
   ]
  },
  {
   "cell_type": "code",
   "execution_count": 3,
   "metadata": {},
   "outputs": [
    {
     "name": "stdout",
     "output_type": "stream",
     "text": [
      "{'message': 'https://images.dog.ceo/breeds/dachshund/dachshund-in-jacket.jpg', 'status': 'success'}\n"
     ]
    }
   ],
   "source": [
    "\"\"\"\n",
    "David Espinosa\n",
    "PROG8431 \n",
    "Fall 2024\n",
    "Rectangular Data Structures\n",
    "\n",
    "Fetches a random dog image from the Dog CEO's Dog API.\n",
    "\"\"\"\n",
    "import requests\n",
    "\n",
    "def fetch_random_dog_image():\n",
    "    # URL of the JSON file from the Dog CEO's Dog API\n",
    "    url = 'https://dog.ceo/api/breeds/image/random'\n",
    "\n",
    "    # Send a GET request to the URL\n",
    "    response = requests.get(url)\n",
    "\n",
    "    # Check if the request was successful\n",
    "    if response.status_code == 200:\n",
    "        # Parse the JSON content\n",
    "        data = response.json()\n",
    "        print(data)\n",
    "    else:\n",
    "        print(f\"Failed to retrieve data: {response.status_code}\")\n",
    "\n",
    "# Call the function\n",
    "fetch_random_dog_image()\n"
   ]
  },
  {
   "cell_type": "markdown",
   "metadata": {},
   "source": [
    "### Fetching JSON Data from an API Endpoint (Example 3)\n",
    "\n",
    "In this example, we will fetch JSON content from a free API endpoint using the `requests` library in Python. The API endpoint we are using is from the Represent API by Open North, which provides information about political representatives in Canada. This API is listed here:\n",
    "* https://github.com/public-apis/public-apis?tab=readme-ov-file"
   ]
  },
  {
   "cell_type": "code",
   "execution_count": 4,
   "metadata": {},
   "outputs": [
    {
     "name": "stdout",
     "output_type": "stream",
     "text": [
      "{'objects': [{'name': 'Iqra Khalid', 'district_name': 'Mississauga—Erin Mills', 'elected_office': 'MP', 'source_url': 'https://www.ourcommons.ca/Members/en/search?caucusId=all&province=all', 'first_name': 'Iqra', 'last_name': 'Khalid', 'party_name': 'Liberal', 'email': 'iqra.khalid@parl.gc.ca', 'url': 'https://www.ourcommons.ca/Members/en/iqra-khalid(88849)', 'personal_url': '', 'photo_url': 'https://www.ourcommons.ca/Content/Parliamentarians/Images/OfficialMPPhotos/44/KhalidIqra_Lib.jpg', 'gender': 'F', 'offices': [{'fax': '1 613 995-7321', 'tel': '1 613 995-7321', 'type': 'legislature', 'postal': 'House of Commons\\nOttawa ON  K1A 0A6'}, {'fax': '1 905 820-4068', 'tel': '1 905 820-8814', 'type': 'constituency', 'postal': 'Main office - Mississauga\\n41-3184 Ridgeway drive\\nMississauga ON  L5L 5S7'}], 'extra': {'preferred_languages': ['English  French']}, 'representative_set_name': 'House of Commons', 'related': {'representative_set_url': '/representative-sets/house-of-commons/', 'boundary_url': '/boundaries/federal-electoral-districts-2023-representation-order/35063/'}}, {'name': 'Brad Redekopp', 'district_name': 'Saskatoon West', 'elected_office': 'MP', 'source_url': 'https://www.ourcommons.ca/Members/en/search?caucusId=all&province=all', 'first_name': 'Brad', 'last_name': 'Redekopp', 'party_name': 'Conservative', 'email': 'Brad.Redekopp@parl.gc.ca', 'url': 'https://www.ourcommons.ca/Members/en/brad-redekopp(105598)', 'personal_url': '', 'photo_url': 'https://www.ourcommons.ca/Content/Parliamentarians/Images/OfficialMPPhotos/45/RedekoppBrad_CPC.jpg', 'gender': 'M', 'offices': [{'fax': '1 613 992-1899', 'tel': '1 613 992-1899', 'type': 'legislature', 'postal': 'House of Commons\\nOttawa ON  K1A 0A6'}, {'fax': '1 306 975-5786', 'tel': '1 306 975-6555', 'type': 'constituency', 'postal': 'Main office - Saskatoon\\n200-2100 Airport drive\\nSaskatoon SK  S7L 6M6'}], 'extra': {'preferred_languages': ['English']}, 'representative_set_name': 'House of Commons', 'related': {'representative_set_url': '/representative-sets/house-of-commons/', 'boundary_url': '/boundaries/federal-electoral-districts-2023-representation-order/47011/'}}, {'name': 'Marjorie Michel', 'district_name': 'Papineau', 'elected_office': 'MP', 'source_url': 'https://www.ourcommons.ca/Members/en/search?caucusId=all&province=all', 'first_name': 'Marjorie', 'last_name': 'Michel', 'party_name': 'Liberal', 'email': 'marjorie.michel@parl.gc.ca', 'url': 'https://www.ourcommons.ca/Members/en/marjorie-michel(122684)', 'personal_url': '', 'photo_url': 'https://www.ourcommons.ca/Content/Parliamentarians/Images/OfficialMPPhotos/45/MichelMarjorie_Lib.jpg', 'gender': 'F', 'offices': [{'fax': '1 613 947-9299', 'tel': '1 613 947-9299', 'type': 'legislature', 'postal': 'House of Commons\\nOttawa ON  K1A 0A6'}, {'tel': '1 514 277-1645', 'type': 'constituency', 'postal': 'Main office - Montréal\\n220-1100 Crémazie East Boulevard\\nMontréal QC  H2P 2X2'}], 'extra': {'roles': ['Minister of Health (Minister)'], 'preferred_languages': ['French  English']}, 'representative_set_name': 'House of Commons', 'related': {'representative_set_url': '/representative-sets/house-of-commons/', 'boundary_url': '/boundaries/federal-electoral-districts-2023-representation-order/24054/'}}, {'name': 'Amarjeet Gill', 'district_name': 'Brampton West', 'elected_office': 'MP', 'source_url': 'https://www.ourcommons.ca/Members/en/search?caucusId=all&province=all', 'first_name': 'Amarjeet', 'last_name': 'Gill', 'party_name': 'Conservative', 'email': 'amarjeet.gill@parl.gc.ca', 'url': 'https://www.ourcommons.ca/Members/en/amarjeet-gill(122825)', 'personal_url': '', 'photo_url': 'https://www.ourcommons.ca/Content/Parliamentarians/Images/OfficialMPPhotos/45/GillAmarjeet_CPC.jpg', 'gender': 'M', 'offices': [{'fax': '1 613 992-0778', 'tel': '1 613 992-0778', 'type': 'legislature', 'postal': 'House of Commons\\nOttawa ON  K1A 0A6'}, {'tel': '1 905 454-2078', 'type': 'constituency', 'postal': 'Main office - Brampton\\n10, 11-15 Regan Road\\nBrampton ON  L7A 1E3'}], 'extra': {'preferred_languages': ['English']}, 'representative_set_name': 'House of Commons', 'related': {'representative_set_url': '/representative-sets/house-of-commons/', 'boundary_url': '/boundaries/federal-electoral-districts-2023-representation-order/35014/'}}, {'name': 'Richard Martel', 'district_name': 'Chicoutimi—Le Fjord', 'elected_office': 'MP', 'source_url': 'https://www.ourcommons.ca/Members/en/search?caucusId=all&province=all', 'first_name': 'Richard', 'last_name': 'Martel', 'party_name': 'Conservative', 'email': 'Richard.Martel@parl.gc.ca', 'url': 'https://www.ourcommons.ca/Members/en/richard-martel(100521)', 'personal_url': '', 'photo_url': 'https://www.ourcommons.ca/Content/Parliamentarians/Images/OfficialMPPhotos/45/MartelRichard_CPC.jpg', 'gender': 'M', 'offices': [{'fax': '1 613 992-7207', 'tel': '1 613 992-7207', 'type': 'legislature', 'postal': 'House of Commons\\nOttawa ON  K1A 0A6'}, {'fax': '1 418 698-5611', 'tel': '1 418 698-5648', 'type': 'constituency', 'postal': 'Main office - Chicoutimi\\n101-320 Ste-Anne street\\nChicoutimi QC  G7J 2M4'}], 'extra': {'preferred_languages': ['French']}, 'representative_set_name': 'House of Commons', 'related': {'representative_set_url': '/representative-sets/house-of-commons/', 'boundary_url': '/boundaries/federal-electoral-districts-2023-representation-order/24018/'}}, {'name': 'Chrystia Freeland', 'district_name': 'University—Rosedale', 'elected_office': 'MP', 'source_url': 'https://www.ourcommons.ca/Members/en/search?caucusId=all&province=all', 'first_name': 'Chrystia', 'last_name': 'Freeland', 'party_name': 'Liberal', 'email': 'chrystia.freeland@parl.gc.ca', 'url': 'https://www.ourcommons.ca/Members/en/chrystia-freeland(84665)', 'personal_url': '', 'photo_url': 'https://www.ourcommons.ca/Content/Parliamentarians/Images/OfficialMPPhotos/45/FreelandChrystia_Lib.jpg', 'gender': 'F', 'offices': [{'fax': '1 613 992-5234', 'tel': '1 613 992-5234', 'type': 'legislature', 'postal': 'House of Commons\\nOttawa ON  K1A 0A6'}, {'fax': '1 416 928-2377', 'tel': '1 416 928-1451', 'type': 'constituency', 'postal': 'Main office - Toronto\\n200-622 College street\\nToronto ON  M6G 1B4'}], 'extra': {'roles': ['Minister of Transport and Internal Trade (Minister)'], 'preferred_languages': ['English']}, 'representative_set_name': 'House of Commons', 'related': {'representative_set_url': '/representative-sets/house-of-commons/', 'boundary_url': '/boundaries/federal-electoral-districts-2023-representation-order/35112/'}}, {'name': 'Ruby Sahota', 'district_name': 'Brampton North—Caledon', 'elected_office': 'MP', 'source_url': 'https://www.ourcommons.ca/Members/en/search?caucusId=all&province=all', 'first_name': 'Ruby', 'last_name': 'Sahota', 'party_name': 'Liberal', 'email': 'ruby.sahota@parl.gc.ca', 'url': 'https://www.ourcommons.ca/Members/en/ruby-sahota(88698)', 'personal_url': '', 'photo_url': 'https://www.ourcommons.ca/Content/Parliamentarians/Images/OfficialMPPhotos/45/SahotaRuby_Lib.jpg', 'gender': 'F', 'offices': [{'fax': '1 613 995-4843', 'tel': '1 613 995-4843', 'type': 'legislature', 'postal': 'House of Commons\\nOttawa ON  K1A 0A6'}, {'fax': '1 905 840-1778', 'tel': '1 905 840-0505', 'type': 'constituency', 'postal': 'Main office - Brampton\\n306-307 50 Sunny Meadow Boulevard\\nBrampton ON  L6R 0Y7'}], 'extra': {'roles': ['Secretary of State (Combatting Crime) (Secretary of State)'], 'preferred_languages': ['English']}, 'representative_set_name': 'House of Commons', 'related': {'representative_set_url': '/representative-sets/house-of-commons/', 'boundary_url': '/boundaries/federal-electoral-districts-2023-representation-order/35012/'}}, {'name': 'Tim Uppal', 'district_name': 'Edmonton Gateway', 'elected_office': 'MP', 'source_url': 'https://www.ourcommons.ca/Members/en/search?caucusId=all&province=all', 'first_name': 'Tim', 'last_name': 'Uppal', 'party_name': 'Conservative', 'email': 'Tim.Uppal@parl.gc.ca', 'url': 'https://www.ourcommons.ca/Members/en/tim-uppal(30645)', 'personal_url': '', 'photo_url': 'https://www.ourcommons.ca/Content/Parliamentarians/Images/OfficialMPPhotos/45/UppalTim_CPC.jpg', 'gender': 'M', 'offices': [{'fax': '1 613 992-1013', 'tel': '1 613 992-1013', 'type': 'legislature', 'postal': 'House of Commons\\nOttawa ON  K1A 0A6'}, {'fax': '1 780 497-3511', 'tel': '1 780 497-3524', 'type': 'constituency', 'postal': 'Main office - Edmonton\\n9225 28th avenue\\nEdmonton AB  T6N 1N1'}], 'extra': {'preferred_languages': ['English']}, 'representative_set_name': 'House of Commons', 'related': {'representative_set_url': '/representative-sets/house-of-commons/', 'boundary_url': '/boundaries/federal-electoral-districts-2023-representation-order/48016/'}}, {'name': 'Chi Nguyen', 'district_name': 'Spadina—Harbourfront', 'elected_office': 'MP', 'source_url': 'https://www.ourcommons.ca/Members/en/search?caucusId=all&province=all', 'first_name': 'Chi', 'last_name': 'Nguyen', 'party_name': 'Liberal', 'email': 'chi.nguyen@parl.gc.ca', 'url': 'https://www.ourcommons.ca/Members/en/chi-nguyen(123192)', 'personal_url': '', 'photo_url': 'https://www.ourcommons.ca/Content/Parliamentarians/Images/OfficialMPPhotos/45/NguyenChi_Lib.jpg', 'gender': 'F', 'offices': [{'fax': '1 613 992-2352', 'tel': '1 613 992-2352', 'type': 'legislature', 'postal': 'House of Commons\\nOttawa ON  K1A 0A6'}, {'tel': '1 416 533-1340', 'type': 'constituency', 'postal': 'Main office - Toronto\\n202-460 Richmond St W\\nToronto ON  M5V 1Y1'}], 'extra': {'preferred_languages': ['English  French']}, 'representative_set_name': 'House of Commons', 'related': {'representative_set_url': '/representative-sets/house-of-commons/', 'boundary_url': '/boundaries/federal-electoral-districts-2023-representation-order/35100/'}}, {'name': 'Ginette Petitpas Taylor', 'district_name': 'Moncton—Dieppe', 'elected_office': 'MP', 'source_url': 'https://www.ourcommons.ca/Members/en/search?caucusId=all&province=all', 'first_name': 'Ginette Petitpas', 'last_name': 'Taylor', 'party_name': 'Liberal', 'email': 'ginette.petitpastaylor@parl.gc.ca', 'url': 'https://www.ourcommons.ca/Members/en/ginette-petitpas-taylor(88364)', 'personal_url': '', 'photo_url': 'https://www.ourcommons.ca/Content/Parliamentarians/Images/OfficialMPPhotos/45/PetitpasTaylorGinette_Lib.jpg', 'gender': 'F', 'offices': [{'fax': '1 613 992-8072', 'tel': '1 613 992-8072', 'type': 'legislature', 'postal': 'House of Commons\\nOttawa ON  K1A 0A6'}, {'fax': '1 506 851-3273', 'tel': '1 506 851-3310', 'type': 'constituency', 'postal': 'Main office - Moncton\\n110-272 St-George street\\nMoncton NB  E1C 1W6'}], 'extra': {'preferred_languages': ['English  French']}, 'representative_set_name': 'House of Commons', 'related': {'representative_set_url': '/representative-sets/house-of-commons/', 'boundary_url': '/boundaries/federal-electoral-districts-2023-representation-order/13007/'}}, {'name': 'Christine Normandin', 'district_name': 'Saint-Jean', 'elected_office': 'MP', 'source_url': 'https://www.ourcommons.ca/Members/en/search?caucusId=all&province=all', 'first_name': 'Christine', 'last_name': 'Normandin', 'party_name': 'Bloc Québécois', 'email': 'Christine.Normandin@parl.gc.ca', 'url': 'https://www.ourcommons.ca/Members/en/christine-normandin(104947)', 'personal_url': '', 'photo_url': 'https://www.ourcommons.ca/Content/Parliamentarians/Images/OfficialMPPhotos/45/NormandinChristine_BQ.jpg', 'gender': 'F', 'offices': [{'fax': '1 613 992-5296', 'tel': '1 613 992-5296', 'type': 'legislature', 'postal': 'House of Commons\\nOttawa ON  K1A 0A6'}, {'fax': '1 450 357-9109', 'tel': '1 450 357-9100', 'type': 'constituency', 'postal': 'Main office - Saint-Jean-sur-Richelieu\\n210-100 Richelieu street\\nSaint-Jean-sur-Richelieu QC  J3B 6X3'}], 'extra': {'roles': ['House leader of the Bloc Québécois (House Leader)'], 'preferred_languages': ['French']}, 'representative_set_name': 'House of Commons', 'related': {'representative_set_url': '/representative-sets/house-of-commons/', 'boundary_url': '/boundaries/federal-electoral-districts-2023-representation-order/24067/'}}, {'name': 'Fraser Tolmie', 'district_name': 'Moose Jaw—Lake Centre—Lanigan', 'elected_office': 'MP', 'source_url': 'https://www.ourcommons.ca/Members/en/search?caucusId=all&province=all', 'first_name': 'Fraser', 'last_name': 'Tolmie', 'party_name': 'Conservative', 'email': 'fraser.tolmie@parl.gc.ca', 'url': 'https://www.ourcommons.ca/Members/en/fraser-tolmie(110800)', 'personal_url': '', 'photo_url': 'https://www.ourcommons.ca/Content/Parliamentarians/Images/OfficialMPPhotos/45/TolmieFraser_CPC.jpg', 'gender': 'M', 'offices': [{'fax': '1 613 992-4573', 'tel': '1 613 992-4573', 'type': 'legislature', 'postal': 'House of Commons\\nOttawa ON  K1A 0A6'}, {'fax': '1 306 691-3579', 'tel': '1 306 691-3577', 'type': 'constituency', 'postal': 'Main office - Moose Jaw\\n1-54 Stadacona street West\\nMoose Jaw SK  S6H 1Z1'}], 'extra': {'preferred_languages': ['English']}, 'representative_set_name': 'House of Commons', 'related': {'representative_set_url': '/representative-sets/house-of-commons/', 'boundary_url': '/boundaries/federal-electoral-districts-2023-representation-order/47004/'}}, {'name': 'Billy Morin', 'district_name': 'Edmonton Northwest', 'elected_office': 'MP', 'source_url': 'https://www.ourcommons.ca/Members/en/search?caucusId=all&province=all', 'first_name': 'Billy', 'last_name': 'Morin', 'party_name': 'Conservative', 'email': 'billy.morin@parl.gc.ca', 'url': 'https://www.ourcommons.ca/Members/en/billy-morin(123447)', 'personal_url': '', 'photo_url': 'https://www.ourcommons.ca/Content/Parliamentarians/Images/OfficialMPPhotos/45/MorinWilliam_CPC.jpg', 'gender': 'M', 'offices': [{'tel': '1 613 995-3488', 'type': 'legislature', 'postal': 'House of Commons\\nOttawa ON  K1A 0A6'}], 'extra': {'preferred_languages': ['English']}, 'representative_set_name': 'House of Commons', 'related': {'representative_set_url': '/representative-sets/house-of-commons/', 'boundary_url': '/boundaries/federal-electoral-districts-2023-representation-order/48019/'}}, {'name': 'Alexis Brunelle-Duceppe', 'district_name': 'Lac-Saint-Jean', 'elected_office': 'MP', 'source_url': 'https://www.ourcommons.ca/Members/en/search?caucusId=all&province=all', 'first_name': 'Alexis', 'last_name': 'Brunelle-Duceppe', 'party_name': 'Bloc Québécois', 'email': 'Alexis.Brunelle-Duceppe@parl.gc.ca', 'url': 'https://www.ourcommons.ca/Members/en/alexis-brunelle-duceppe(104786)', 'personal_url': '', 'photo_url': 'https://www.ourcommons.ca/Content/Parliamentarians/Images/OfficialMPPhotos/45/Brunelle-DuceppeAlexis_BQ.jpg', 'gender': 'M', 'offices': [{'fax': '1 613 996-6236', 'tel': '1 613 996-6236', 'type': 'legislature', 'postal': 'House of Commons\\nOttawa ON  K1A 0A6'}, {'fax': '1 418 669-0048', 'tel': '1 418 669-0013', 'type': 'constituency', 'postal': 'Main office - Alma\\n37 Saint-Joseph street\\nAlma QC  G8B 3E2'}], 'extra': {'preferred_languages': ['French']}, 'representative_set_name': 'House of Commons', 'related': {'representative_set_url': '/representative-sets/house-of-commons/', 'boundary_url': '/boundaries/federal-electoral-districts-2023-representation-order/24033/'}}, {'name': 'Tamara Kronis', 'district_name': 'Nanaimo—Ladysmith', 'elected_office': 'MP', 'source_url': 'https://www.ourcommons.ca/Members/en/search?caucusId=all&province=all', 'first_name': 'Tamara', 'last_name': 'Kronis', 'party_name': 'Conservative', 'email': 'tamara.kronis@parl.gc.ca', 'url': 'https://www.ourcommons.ca/Members/en/tamara-kronis(111025)', 'personal_url': '', 'photo_url': 'https://www.ourcommons.ca/Content/Parliamentarians/Images/OfficialMPPhotos/45/KronisTamara_CPC.jpg', 'gender': 'F', 'offices': [{'fax': '1 613 992-5243', 'tel': '1 613 992-5243', 'type': 'legislature', 'postal': 'House of Commons\\nOttawa ON  K1A 0A6'}, {'tel': '1 250 434-7110', 'type': 'constituency', 'postal': 'Main office - Nanaimo\\n3-3188 Barons Road\\nNanaimo BC  V9T 4E5'}, {'type': 'constituency', 'postal': 'Ladysmith\\n124 - 630 Second Avenue\\nLadysmith BC  V9G 1B2'}], 'extra': {'preferred_languages': ['English  French']}, 'representative_set_name': 'House of Commons', 'related': {'representative_set_url': '/representative-sets/house-of-commons/', 'boundary_url': '/boundaries/federal-electoral-districts-2023-representation-order/59019/'}}, {'name': 'Fayçal El-Khoury', 'district_name': 'Laval—Les Îles', 'elected_office': 'MP', 'source_url': 'https://www.ourcommons.ca/Members/en/search?caucusId=all&province=all', 'first_name': 'Fayçal', 'last_name': 'El-Khoury', 'party_name': 'Liberal', 'email': 'faycal.el-khoury@parl.gc.ca', 'url': 'https://www.ourcommons.ca/Members/en/faycal-el-khoury(88515)', 'personal_url': '', 'photo_url': 'https://www.ourcommons.ca/Content/Parliamentarians/Images/OfficialMPPhotos/45/ElKhouryFayçal_Lib.jpg', 'gender': 'M', 'offices': [{'fax': '1 613 992-2659', 'tel': '1 613 992-2659', 'type': 'legislature', 'postal': 'House of Commons\\nOttawa ON  K1A 0A6'}, {'fax': '1 450 689-5092', 'tel': '1 450 689-4594', 'type': 'constituency', 'postal': 'Main office - Laval\\n200A-674 de la Place-Publique road\\nLaval QC  H7X 1G1'}], 'extra': {'preferred_languages': ['French']}, 'representative_set_name': 'House of Commons', 'related': {'representative_set_url': '/representative-sets/house-of-commons/', 'boundary_url': '/boundaries/federal-electoral-districts-2023-representation-order/24038/'}}, {'name': 'Randeep Sarai', 'district_name': 'Surrey Centre', 'elected_office': 'MP', 'source_url': 'https://www.ourcommons.ca/Members/en/search?caucusId=all&province=all', 'first_name': 'Randeep', 'last_name': 'Sarai', 'party_name': 'Liberal', 'email': 'randeep.sarai@parl.gc.ca', 'url': 'https://www.ourcommons.ca/Members/en/randeep-sarai(89339)', 'personal_url': '', 'photo_url': 'https://www.ourcommons.ca/Content/Parliamentarians/Images/OfficialMPPhotos/45/SaraiRandeep_Lib.jpg', 'gender': 'M', 'offices': [{'fax': '1 613 992-2922', 'tel': '1 613 992-2922', 'type': 'legislature', 'postal': 'House of Commons\\nOttawa ON  K1A 0A6'}, {'fax': '1 604 589-2445', 'tel': '1 604 589-2441', 'type': 'constituency', 'postal': 'Main office - Surrey\\n170-10362 King George Boulevard\\nSurrey BC  V3T 2W5'}], 'extra': {'roles': ['Secretary of State (International Development) (Secretary of State)'], 'preferred_languages': ['English  French']}, 'representative_set_name': 'House of Commons', 'related': {'representative_set_url': '/representative-sets/house-of-commons/', 'boundary_url': '/boundaries/federal-electoral-districts-2023-representation-order/59033/'}}, {'name': 'Evan Solomon', 'district_name': 'Toronto Centre', 'elected_office': 'MP', 'source_url': 'https://www.ourcommons.ca/Members/en/search?caucusId=all&province=all', 'first_name': 'Evan', 'last_name': 'Solomon', 'party_name': 'Liberal', 'email': 'evan.solomon@parl.gc.ca', 'url': 'https://www.ourcommons.ca/Members/en/evan-solomon(123229)', 'personal_url': '', 'photo_url': 'https://www.ourcommons.ca/Content/Parliamentarians/Images/OfficialMPPhotos/45/SolomonEvan_Lib.jpg', 'gender': 'M', 'offices': [{'fax': '1 613 992-1377', 'tel': '1 613 992-1377', 'type': 'legislature', 'postal': 'House of Commons\\nOttawa ON  K1A 0A6'}, {'tel': '1 416 972-2030', 'type': 'constituency', 'postal': 'Main office - Toronto\\n430 Parliament street\\nToronto ON  M5A 3A2'}], 'extra': {'roles': ['Minister of Artificial Intelligence and Digital Innovation (Minister)', 'Minister responsible for the Federal Economic Development Agency for Southern Ontario (Minister)'], 'preferred_languages': ['English']}, 'representative_set_name': 'House of Commons', 'related': {'representative_set_url': '/representative-sets/house-of-commons/', 'boundary_url': '/boundaries/federal-electoral-districts-2023-representation-order/35109/'}}, {'name': 'Rachael Thomas', 'district_name': 'Lethbridge', 'elected_office': 'MP', 'source_url': 'https://www.ourcommons.ca/Members/en/search?caucusId=all&province=all', 'first_name': 'Rachael', 'last_name': 'Thomas', 'party_name': 'Conservative', 'email': 'rachael.thomas@parl.gc.ca', 'url': 'https://www.ourcommons.ca/Members/en/rachael-thomas(89200)', 'personal_url': '', 'photo_url': 'https://www.ourcommons.ca/Content/Parliamentarians/Images/OfficialMPPhotos/45/ThomasRachael_CPC.jpg', 'gender': 'F', 'offices': [{'fax': '1 613 992-4516', 'tel': '1 613 992-4516', 'type': 'legislature', 'postal': 'House of Commons\\nOttawa ON  K1A 0A6'}, {'fax': '1 403 380-4026', 'tel': '1 403 320-0070', 'type': 'constituency', 'postal': 'Main office - Lethbridge\\n255 8th street South\\nLethbridge AB  T1J 4Y1'}], 'extra': {'preferred_languages': ['English']}, 'representative_set_name': 'House of Commons', 'related': {'representative_set_url': '/representative-sets/house-of-commons/', 'boundary_url': '/boundaries/federal-electoral-districts-2023-representation-order/48029/'}}, {'name': 'Roman Baber', 'district_name': 'York Centre', 'elected_office': 'MP', 'source_url': 'https://www.ourcommons.ca/Members/en/search?caucusId=all&province=all', 'first_name': 'Roman', 'last_name': 'Baber', 'party_name': 'Conservative', 'email': 'roman.baber@parl.gc.ca', 'url': 'https://www.ourcommons.ca/Members/en/roman-baber(123276)', 'personal_url': '', 'photo_url': 'https://www.ourcommons.ca/Content/Parliamentarians/Images/OfficialMPPhotos/45/BaberRoman_CPC.jpg', 'gender': 'M', 'offices': [{'fax': '1 613 941-6339', 'tel': '1 613 941-6339', 'type': 'legislature', 'postal': 'House of Commons\\nOttawa ON  K1A 0A6'}, {'tel': '1 416 638-9030', 'type': 'constituency', 'postal': 'Main office - Toronto\\n2-2800 Keele street\\nToronto ON  M3M 0B8'}], 'extra': {'preferred_languages': ['English']}, 'representative_set_name': 'House of Commons', 'related': {'representative_set_url': '/representative-sets/house-of-commons/', 'boundary_url': '/boundaries/federal-electoral-districts-2023-representation-order/35120/'}}], 'meta': {'offset': 0, 'limit': 20, 'total_count': 343, 'previous': None, 'next': '/representatives/house-of-commons/?limit=20&offset=20'}}\n"
     ]
    }
   ],
   "source": [
    "import requests\n",
    "\n",
    "# Define the API endpoint\n",
    "url = \"https://represent.opennorth.ca/representatives/house-of-commons/\"\n",
    "\n",
    "# Define the headers\n",
    "headers = {\n",
    "    \"User-Agent\": \"Mozilla/5.0 (Windows NT 10.0; Win64; x64) AppleWebKit/537.36 (KHTML, like Gecko) Chrome/58.0.3029.110 Safari/537.3\"\n",
    "}\n",
    "\n",
    "# Send a GET request to the API endpoint with headers\n",
    "response = requests.get(url, headers=headers)\n",
    "\n",
    "# Check if the request was successful\n",
    "if response.status_code == 200:\n",
    "    # Parse the JSON content\n",
    "    data = response.json()\n",
    "    # Display the JSON content\n",
    "    print(data)\n",
    "else:\n",
    "    print(f\"Failed to retrieve data: {response.status_code}\")\n"
   ]
  },
  {
   "cell_type": "markdown",
   "metadata": {},
   "source": [
    "### Fetching JSON Data from an API Endpoint (Example 4)\n",
    "\n",
    "In this example, we will fetch JSON content from a free API endpoint using the `requests` library in Python. The API endpoint we are using is from the Imgflip API, which provides a list of popular memes. This API is listed here: \n",
    "* https://mixedanalytics.com/blog/list-actually-free-open-no-auth-needed-apis/"
   ]
  },
  {
   "cell_type": "code",
   "execution_count": 5,
   "metadata": {},
   "outputs": [
    {
     "name": "stdout",
     "output_type": "stream",
     "text": [
      "{'success': True, 'data': {'memes': [{'id': '181913649', 'name': 'Drake Hotline Bling', 'url': 'https://i.imgflip.com/30b1gx.jpg', 'width': 1200, 'height': 1200, 'box_count': 2, 'captions': 1447000}, {'id': '87743020', 'name': 'Two Buttons', 'url': 'https://i.imgflip.com/1g8my4.jpg', 'width': 600, 'height': 908, 'box_count': 3, 'captions': 1129500}, {'id': '112126428', 'name': 'Distracted Boyfriend', 'url': 'https://i.imgflip.com/1ur9b0.jpg', 'width': 1200, 'height': 800, 'box_count': 3, 'captions': 1137250}, {'id': '222403160', 'name': 'Bernie I Am Once Again Asking For Your Support', 'url': 'https://i.imgflip.com/3oevdk.jpg', 'width': 750, 'height': 750, 'box_count': 2, 'captions': 325500}, {'id': '124822590', 'name': 'Left Exit 12 Off Ramp', 'url': 'https://i.imgflip.com/22bdq6.jpg', 'width': 804, 'height': 767, 'box_count': 3, 'captions': 704750}, {'id': '131087935', 'name': 'Running Away Balloon', 'url': 'https://i.imgflip.com/261o3j.jpg', 'width': 761, 'height': 1024, 'box_count': 5, 'captions': 583750}, {'id': '217743513', 'name': 'UNO Draw 25 Cards', 'url': 'https://i.imgflip.com/3lmzyx.jpg', 'width': 500, 'height': 494, 'box_count': 2, 'captions': 618500}, {'id': '97984', 'name': 'Disaster Girl', 'url': 'https://i.imgflip.com/23ls.jpg', 'width': 500, 'height': 375, 'box_count': 2, 'captions': 408000}, {'id': '80707627', 'name': 'Sad Pablo Escobar', 'url': 'https://i.imgflip.com/1c1uej.jpg', 'width': 720, 'height': 709, 'box_count': 3, 'captions': 239500}, {'id': '135256802', 'name': 'Epic Handshake', 'url': 'https://i.imgflip.com/28j0te.jpg', 'width': 900, 'height': 645, 'box_count': 3, 'captions': 245000}, {'id': '4087833', 'name': 'Waiting Skeleton', 'url': 'https://i.imgflip.com/2fm6x.jpg', 'width': 298, 'height': 403, 'box_count': 2, 'captions': 467250}, {'id': '131940431', 'name': \"Gru's Plan\", 'url': 'https://i.imgflip.com/26jxvz.jpg', 'width': 700, 'height': 449, 'box_count': 4, 'captions': 352500}, {'id': '252600902', 'name': 'Always Has Been', 'url': 'https://i.imgflip.com/46e43q.png', 'width': 960, 'height': 540, 'box_count': 2, 'captions': 216000}, {'id': '322841258', 'name': 'Anakin Padme 4 Panel', 'url': 'https://i.imgflip.com/5c7lwq.png', 'width': 768, 'height': 768, 'box_count': 3, 'captions': 131000}, {'id': '129242436', 'name': 'Change My Mind', 'url': 'https://i.imgflip.com/24y43o.jpg', 'width': 482, 'height': 361, 'box_count': 2, 'captions': 658000}, {'id': '438680', 'name': 'Batman Slapping Robin', 'url': 'https://i.imgflip.com/9ehk.jpg', 'width': 400, 'height': 387, 'box_count': 2, 'captions': 648750}, {'id': '161865971', 'name': 'Marked Safe From', 'url': 'https://i.imgflip.com/2odckz.jpg', 'width': 618, 'height': 499, 'box_count': 2, 'captions': 212500}, {'id': '102156234', 'name': 'Mocking Spongebob', 'url': 'https://i.imgflip.com/1otk96.jpg', 'width': 502, 'height': 353, 'box_count': 2, 'captions': 441500}, {'id': '91538330', 'name': 'X, X Everywhere', 'url': 'https://i.imgflip.com/1ihzfe.jpg', 'width': 2118, 'height': 1440, 'box_count': 2, 'captions': 386000}, {'id': '188390779', 'name': 'Woman Yelling At Cat', 'url': 'https://i.imgflip.com/345v97.jpg', 'width': 680, 'height': 438, 'box_count': 2, 'captions': 386500}, {'id': '309868304', 'name': 'Trade Offer', 'url': 'https://i.imgflip.com/54hjww.jpg', 'width': 607, 'height': 794, 'box_count': 3, 'captions': 118000}, {'id': '247375501', 'name': 'Buff Doge vs. Cheems', 'url': 'https://i.imgflip.com/43a45p.png', 'width': 937, 'height': 720, 'box_count': 4, 'captions': 364000}, {'id': '93895088', 'name': 'Expanding Brain', 'url': 'https://i.imgflip.com/1jwhww.jpg', 'width': 857, 'height': 1202, 'box_count': 4, 'captions': 467250}, {'id': '110163934', 'name': \"I Bet He's Thinking About Other Women\", 'url': 'https://i.imgflip.com/1tl71a.jpg', 'width': 1654, 'height': 930, 'box_count': 2, 'captions': 177750}, {'id': '178591752', 'name': 'Tuxedo Winnie The Pooh', 'url': 'https://i.imgflip.com/2ybua0.png', 'width': 800, 'height': 582, 'box_count': 2, 'captions': 269750}, {'id': '124055727', 'name': \"Y'all Got Any More Of That\", 'url': 'https://i.imgflip.com/21uy0f.jpg', 'width': 600, 'height': 471, 'box_count': 2, 'captions': 217000}, {'id': '61544', 'name': 'Success Kid', 'url': 'https://i.imgflip.com/1bhk.jpg', 'width': 500, 'height': 500, 'box_count': 2, 'captions': 149000}, {'id': '61579', 'name': 'One Does Not Simply', 'url': 'https://i.imgflip.com/1bij.jpg', 'width': 568, 'height': 335, 'box_count': 2, 'captions': 478000}, {'id': '79132341', 'name': 'Bike Fall', 'url': 'https://i.imgflip.com/1b42wl.jpg', 'width': 500, 'height': 680, 'box_count': 3, 'captions': 135250}, {'id': '370867422', 'name': 'Megamind peeking', 'url': 'https://i.imgflip.com/64sz4u.png', 'width': 540, 'height': 540, 'box_count': 2, 'captions': 92000}, {'id': '100777631', 'name': 'Is This A Pigeon', 'url': 'https://i.imgflip.com/1o00in.jpg', 'width': 1587, 'height': 1425, 'box_count': 3, 'captions': 230750}, {'id': '224015000', 'name': 'Bernie Sanders Once Again Asking', 'url': 'https://i.imgflip.com/3pdf2w.png', 'width': 926, 'height': 688, 'box_count': 2, 'captions': 58250}, {'id': '252758727', 'name': 'Mother Ignoring Kid Drowning In A Pool', 'url': 'https://i.imgflip.com/46hhvr.jpg', 'width': 782, 'height': 1032, 'box_count': 4, 'captions': 70000}, {'id': '427308417', 'name': '0 days without (Lenny, Simpsons)', 'url': 'https://i.imgflip.com/72epa9.png', 'width': 619, 'height': 403, 'box_count': 2, 'captions': 37750}, {'id': '148909805', 'name': 'Monkey Puppet', 'url': 'https://i.imgflip.com/2gnnjh.jpg', 'width': 923, 'height': 768, 'box_count': 2, 'captions': 219750}, {'id': '3218037', 'name': \"This Is Where I'd Put My Trophy If I Had One\", 'url': 'https://i.imgflip.com/1wz1x.jpg', 'width': 300, 'height': 418, 'box_count': 2, 'captions': 152250}, {'id': '101470', 'name': 'Ancient Aliens', 'url': 'https://i.imgflip.com/26am.jpg', 'width': 500, 'height': 437, 'box_count': 2, 'captions': 372250}, {'id': '180190441', 'name': \"They're The Same Picture\", 'url': 'https://i.imgflip.com/2za3u1.jpg', 'width': 1363, 'height': 1524, 'box_count': 3, 'captions': 175250}, {'id': '28251713', 'name': 'Oprah You Get A', 'url': 'https://i.imgflip.com/gtj5t.jpg', 'width': 620, 'height': 465, 'box_count': 2, 'captions': 214750}, {'id': '27813981', 'name': 'Hide the Pain Harold', 'url': 'https://i.imgflip.com/gk5el.jpg', 'width': 480, 'height': 601, 'box_count': 2, 'captions': 237500}, {'id': '1035805', 'name': 'Boardroom Meeting Suggestion', 'url': 'https://i.imgflip.com/m78d.jpg', 'width': 500, 'height': 649, 'box_count': 4, 'captions': 403500}, {'id': '55311130', 'name': 'This Is Fine', 'url': 'https://i.imgflip.com/wxica.jpg', 'width': 580, 'height': 282, 'box_count': 2, 'captions': 149000}, {'id': '558880671', 'name': 'Squid Game', 'url': 'https://i.imgflip.com/98qr33.jpg', 'width': 1546, 'height': 2385, 'box_count': 2, 'captions': 24250}, {'id': '177682295', 'name': 'You Guys are Getting Paid', 'url': 'https://i.imgflip.com/2xscjb.png', 'width': 520, 'height': 358, 'box_count': 2, 'captions': 62750}, {'id': '195515965', 'name': 'Clown Applying Makeup', 'url': 'https://i.imgflip.com/38el31.jpg', 'width': 750, 'height': 798, 'box_count': 4, 'captions': 122500}, {'id': '67452763', 'name': 'Squidward window', 'url': 'https://i.imgflip.com/145qvv.jpg', 'width': 598, 'height': 420, 'box_count': 2, 'captions': 58750}, {'id': '119139145', 'name': 'Blank Nut Button', 'url': 'https://i.imgflip.com/1yxkcp.jpg', 'width': 600, 'height': 446, 'box_count': 2, 'captions': 313750}, {'id': '166969924', 'name': 'Flex Tape', 'url': 'https://i.imgflip.com/2reqtg.png', 'width': 510, 'height': 572, 'box_count': 3, 'captions': 74750}, {'id': '101956210', 'name': 'Whisper and Goosebumps', 'url': 'https://i.imgflip.com/1op9wy.jpg', 'width': 600, 'height': 600, 'box_count': 2, 'captions': 58750}, {'id': '533936279', 'name': 'Bell Curve', 'url': 'https://i.imgflip.com/8tw3vb.png', 'width': 675, 'height': 499, 'box_count': 3, 'captions': 30750}, {'id': '208915813', 'name': 'George Bush 9/11', 'url': 'https://i.imgflip.com/3gdsh1.jpg', 'width': 300, 'height': 180, 'box_count': 2, 'captions': 22000}, {'id': '99683372', 'name': 'Sleeping Shaq', 'url': 'https://i.imgflip.com/1nck6k.jpg', 'width': 640, 'height': 631, 'box_count': 2, 'captions': 108000}, {'id': '284929871', 'name': \"They don't know\", 'url': 'https://i.imgflip.com/4pn1an.png', 'width': 671, 'height': 673, 'box_count': 2, 'captions': 45750}, {'id': '77045868', 'name': 'Pawn Stars Best I Can Do', 'url': 'https://i.imgflip.com/19vcz0.jpg', 'width': 624, 'height': 352, 'box_count': 2, 'captions': 49000}, {'id': '259237855', 'name': 'Laughing Leo', 'url': 'https://i.imgflip.com/4acd7j.png', 'width': 470, 'height': 470, 'box_count': 2, 'captions': 107250}, {'id': '89370399', 'name': 'Roll Safe Think About It', 'url': 'https://i.imgflip.com/1h7in3.jpg', 'width': 702, 'height': 395, 'box_count': 2, 'captions': 332000}, {'id': '234202281', 'name': 'AJ Styles & Undertaker', 'url': 'https://i.imgflip.com/3vfrmx.jpg', 'width': 933, 'height': 525, 'box_count': 2, 'captions': 42000}, {'id': '171305372', 'name': 'Soldier protecting sleeping child', 'url': 'https://i.imgflip.com/2tzo2k.jpg', 'width': 540, 'height': 440, 'box_count': 3, 'captions': 42500}, {'id': '316466202', 'name': 'where monkey', 'url': 'https://i.imgflip.com/58eyvu.png', 'width': 1113, 'height': 629, 'box_count': 2, 'captions': 59500}, {'id': '206151308', 'name': 'Spider Man Triple', 'url': 'https://i.imgflip.com/3eqjd8.jpg', 'width': 600, 'height': 551, 'box_count': 3, 'captions': 37000}, {'id': '247113703', 'name': 'A train hitting a school bus', 'url': 'https://i.imgflip.com/434i5j.png', 'width': 920, 'height': 1086, 'box_count': 2, 'captions': 64250}, {'id': '119215120', 'name': 'Types of Headaches meme', 'url': 'https://i.imgflip.com/1yz6z4.jpg', 'width': 483, 'height': 497, 'box_count': 2, 'captions': 67000}, {'id': '91545132', 'name': 'Trump Bill Signing', 'url': 'https://i.imgflip.com/1ii4oc.jpg', 'width': 1866, 'height': 1529, 'box_count': 2, 'captions': 165750}, {'id': '371619279', 'name': 'Megamind no bitches', 'url': 'https://i.imgflip.com/65939r.jpg', 'width': 674, 'height': 734, 'box_count': 2, 'captions': 29500}, {'id': '114585149', 'name': 'Inhaling Seagull', 'url': 'https://i.imgflip.com/1w7ygt.jpg', 'width': 1269, 'height': 2825, 'box_count': 4, 'captions': 244250}, {'id': '354700819', 'name': 'Two guys on a bus', 'url': 'https://i.imgflip.com/5v6gwj.jpg', 'width': 762, 'height': 675, 'box_count': 2, 'captions': 23000}, {'id': '84341851', 'name': 'Evil Kermit', 'url': 'https://i.imgflip.com/1e7ql7.jpg', 'width': 700, 'height': 325, 'box_count': 2, 'captions': 156750}, {'id': '226297822', 'name': 'Panik Kalm Panik', 'url': 'https://i.imgflip.com/3qqcim.png', 'width': 640, 'height': 881, 'box_count': 3, 'captions': 216750}, {'id': '221578498', 'name': 'Grant Gustin over grave', 'url': 'https://i.imgflip.com/3nx72a.png', 'width': 500, 'height': 475, 'box_count': 2, 'captions': 56000}, {'id': '135678846', 'name': 'Who Killed Hannibal', 'url': 'https://i.imgflip.com/28s2gu.jpg', 'width': 1280, 'height': 1440, 'box_count': 3, 'captions': 138250}, {'id': '61520', 'name': 'Futurama Fry', 'url': 'https://i.imgflip.com/1bgw.jpg', 'width': 552, 'height': 414, 'box_count': 2, 'captions': 311500}, {'id': '50421420', 'name': 'Disappointed Black Guy', 'url': 'https://i.imgflip.com/u0pf0.jpg', 'width': 1172, 'height': 756, 'box_count': 2, 'captions': 71000}, {'id': '137501417', 'name': 'Friendship ended', 'url': 'https://i.imgflip.com/29v4rt.jpg', 'width': 800, 'height': 600, 'box_count': 2, 'captions': 35750}, {'id': '216523697', 'name': 'All My Homies Hate', 'url': 'https://i.imgflip.com/3kwur5.jpg', 'width': 680, 'height': 615, 'box_count': 2, 'captions': 53250}, {'id': '155067746', 'name': 'Surprised Pikachu', 'url': 'https://i.imgflip.com/2kbn1e.jpg', 'width': 1893, 'height': 1893, 'box_count': 3, 'captions': 243250}, {'id': '5496396', 'name': 'Leonardo Dicaprio Cheers', 'url': 'https://i.imgflip.com/39t1o.jpg', 'width': 600, 'height': 400, 'box_count': 2, 'captions': 241000}, {'id': '187102311', 'name': 'Three-headed Dragon', 'url': 'https://i.imgflip.com/33e92f.jpg', 'width': 680, 'height': 544, 'box_count': 4, 'captions': 47000}, {'id': '224514655', 'name': 'Anime Girl Hiding from Terminator', 'url': 'https://i.imgflip.com/3po4m7.jpg', 'width': 581, 'height': 633, 'box_count': 2, 'captions': 53000}, {'id': '611743917', 'name': 'Taylor Swift Travis Kelce engagement', 'url': 'https://i.imgflip.com/a47sml.png', 'width': 1060, 'height': 825, 'box_count': 2, 'captions': 4500}, {'id': '134797956', 'name': 'American Chopper Argument', 'url': 'https://i.imgflip.com/2896ro.jpg', 'width': 640, 'height': 1800, 'box_count': 5, 'captions': 184750}, {'id': '101288', 'name': 'Third World Skeptical Kid', 'url': 'https://i.imgflip.com/265k.jpg', 'width': 426, 'height': 426, 'box_count': 2, 'captions': 189250}, {'id': '142009471', 'name': 'is this butterfly', 'url': 'https://i.imgflip.com/2cjr7j.jpg', 'width': 1587, 'height': 1425, 'box_count': 3, 'captions': 32250}, {'id': '21735', 'name': 'The Rock Driving', 'url': 'https://i.imgflip.com/grr.jpg', 'width': 568, 'height': 700, 'box_count': 2, 'captions': 225500}, {'id': '61556', 'name': 'Grandma Finds The Internet', 'url': 'https://i.imgflip.com/1bhw.jpg', 'width': 640, 'height': 480, 'box_count': 2, 'captions': 167750}, {'id': '14371066', 'name': 'Star Wars Yoda', 'url': 'https://i.imgflip.com/8k0sa.jpg', 'width': 620, 'height': 714, 'box_count': 2, 'captions': 139750}, {'id': '29617627', 'name': 'Look At Me', 'url': 'https://i.imgflip.com/hmt3v.jpg', 'width': 300, 'height': 300, 'box_count': 2, 'captions': 66000}, {'id': '309668311', 'name': 'Two Paths', 'url': 'https://i.imgflip.com/54d9lj.png', 'width': 416, 'height': 416, 'box_count': 3, 'captions': 22750}, {'id': '129315248', 'name': 'No - Yes', 'url': 'https://i.imgflip.com/24zoa8.jpg', 'width': 429, 'height': 343, 'box_count': 2, 'captions': 32250}, {'id': '360597639', 'name': \"whe i'm in a competition and my opponent is\", 'url': 'https://i.imgflip.com/5youx3.jpg', 'width': 916, 'height': 900, 'box_count': 2, 'captions': 25000}, {'id': '162372564', 'name': 'Domino Effect', 'url': 'https://i.imgflip.com/2oo7h0.jpg', 'width': 820, 'height': 565, 'box_count': 2, 'captions': 35250}, {'id': '110133729', 'name': 'spiderman pointing at spiderman', 'url': 'https://i.imgflip.com/1tkjq9.jpg', 'width': 800, 'height': 450, 'box_count': 2, 'captions': 59750}, {'id': '72525473', 'name': 'say the line bart! simpsons', 'url': 'https://i.imgflip.com/176h0h.jpg', 'width': 395, 'height': 650, 'box_count': 3, 'captions': 28750}, {'id': '123999232', 'name': 'The Scroll Of Truth', 'url': 'https://i.imgflip.com/21tqf4.jpg', 'width': 1280, 'height': 1236, 'box_count': 2, 'captions': 229000}, {'id': '342785297', 'name': 'Gus Fring we are not the same', 'url': 'https://i.imgflip.com/5o32tt.png', 'width': 700, 'height': 1000, 'box_count': 3, 'captions': 37750}, {'id': '145139900', 'name': 'Scooby doo mask reveal', 'url': 'https://i.imgflip.com/2eeunw.jpg', 'width': 720, 'height': 960, 'box_count': 4, 'captions': 29500}, {'id': '20007896', 'name': \"c'mon do something\", 'url': 'https://i.imgflip.com/bwu6w.jpg', 'width': 448, 'height': 519, 'box_count': 2, 'captions': 33750}, {'id': '92084495', 'name': 'Charlie Conspiracy (Always Sunny in Philidelphia)', 'url': 'https://i.imgflip.com/1itoun.jpg', 'width': 1024, 'height': 768, 'box_count': 2, 'captions': 36750}, {'id': '6235864', 'name': 'Finding Neverland', 'url': 'https://i.imgflip.com/3pnmg.jpg', 'width': 423, 'height': 600, 'box_count': 3, 'captions': 165250}, {'id': '568618654', 'name': 'Jarvis Template', 'url': 'https://i.imgflip.com/9ejgym.jpg', 'width': 640, 'height': 590, 'box_count': 2, 'captions': 5750}, {'id': '249257686', 'name': 'Bugs bunny communist', 'url': 'https://i.imgflip.com/44eggm.png', 'width': 460, 'height': 284, 'box_count': 2, 'captions': 48000}]}}\n"
     ]
    }
   ],
   "source": [
    "import requests\n",
    "\n",
    "# Define the API endpoint\n",
    "url = \"https://api.imgflip.com/get_memes\"\n",
    "\n",
    "# Send a GET request to the API endpoint\n",
    "response = requests.get(url)\n",
    "\n",
    "# Check if the request was successful\n",
    "if response.status_code == 200:\n",
    "    # Parse the JSON content\n",
    "    data = response.json()\n",
    "    # Display the JSON content\n",
    "    print(data)\n",
    "else:\n",
    "    print(f\"Failed to retrieve data: {response.status_code}\")\n"
   ]
  },
  {
   "cell_type": "markdown",
   "metadata": {},
   "source": [
    "<img src=\"https://i.imgflip.com/30b1gx.jpg\" width=\"400\" height=\"400\">"
   ]
  },
  {
   "cell_type": "markdown",
   "metadata": {},
   "source": [
    "### Challenge\n",
    "Running this API is not trivial, but offers many services, and it is federally funded (i.e. free):\n",
    "\n",
    "* https://api.weather.gc.ca/?lang=en\n",
    "* https://api.weather.gc.ca/openapi#/climate-hourly/getClimate-hourlyFeatures\n",
    "* https://eccc-msc.github.io/open-data/usage/use-case_arthur/use-case_arthur_en/"
   ]
  },
  {
   "cell_type": "code",
   "execution_count": 2,
   "metadata": {},
   "outputs": [
    {
     "name": "stdout",
     "output_type": "stream",
     "text": [
      "Error: 400\n",
      "{\"code\":\"InvalidParameterValue\",\"description\":\"unknown properties specified\"}\n"
     ]
    }
   ],
   "source": [
    "import requests\n",
    "from datetime import datetime, timedelta\n",
    "\n",
    "def fetch_climate_hourly_data():\n",
    "    base_url = \"https://api.weather.gc.ca\"\n",
    "    endpoint = \"/collections/climate-hourly/items\"\n",
    "    url = base_url + endpoint\n",
    "    \n",
    "    lat1, lng1 = 43.3500, -80.6000\n",
    "    lat2, lng2 = 43.5000, -80.3500\n",
    "    \n",
    "    end_date = datetime.now()\n",
    "    start_date = end_date - timedelta(days=7)\n",
    "    date_range = f\"{start_date.strftime('%Y-%m-%d')}/{end_date.strftime('%Y-%m-%d')}\"\n",
    "\n",
    "    params = {\n",
    "        \"f\": \"json\",\n",
    "        \"bbox\": f\"{lng1},{lat1},{lng2},{lat2}\",\n",
    "        \"datetime\": date_range,\n",
    "        \"limit\": 100,\n",
    "        \"sortby\": \"+LOCAL_DATE\",  # Changed sorting property\n",
    "        \"properties\": \"TEMP, PRECIP_AMOUNT\"\n",
    "    }\n",
    "    \n",
    "    response = requests.get(url, params=params)\n",
    "    \n",
    "    if response.status_code == 200:\n",
    "        data = response.json()\n",
    "        \n",
    "        if 'features' in data and len(data['features']) > 0:\n",
    "            print(f\"Climate data for the Waterloo region ({lat1},{lng1} to {lat2},{lng2}):\")\n",
    "            print(f\"Time range: {start_date.date()} to {end_date.date()}\")\n",
    "            print(\"\\n\")\n",
    "            \n",
    "            for feature in data['features']:\n",
    "                props = feature['properties']\n",
    "                print(f\"Temperature: {props.get('TEMP', 'N/A')}°C\")\n",
    "                print(f\"Total Precipitation: {props.get('PRECIP_AMOUNT', 'N/A')} mm\")\n",
    "                print(\"---\")\n",
    "        else:\n",
    "            print(\"No climate data available for the specified location and time range.\")\n",
    "    else:\n",
    "        print(f\"Error: {response.status_code}\")\n",
    "        print(response.text)\n",
    "\n",
    "fetch_climate_hourly_data()"
   ]
  },
  {
   "cell_type": "markdown",
   "metadata": {},
   "source": [
    "# Rectangular Data Structures\n",
    "---\n",
    "\n",
    "- Data arranged in rows and columns, often used in spreadsheets and databases.\n",
    "- Familiar formats include CSV files, SQL databases, etc.\n",
    "\n",
    "Sources:\n",
    "* Kaggle: https://www.kaggle.com/\n",
    "\n",
    "\n"
   ]
  },
  {
   "cell_type": "markdown",
   "metadata": {},
   "source": [
    "### Reading and Storing Data from a CSV File on the Internet (Example 1)\n",
    "\n",
    "In this example, we will read data from a CSV file available on the Internet and store it in a DataFrame using the `pandas` library in Python. The dataset we are using is the Titanic dataset, which contains information about the passengers on the Titanic.\n",
    "\n",
    "1. **Import the `pandas` library**: This library allows us to work with data in a tabular format.\n",
    "2. **Define the URL of the CSV file**: We specify the URL of the CSV file we want to fetch data from.\n",
    "3. **Read the CSV file from the URL**: We use the `pd.read_csv()` method to read the CSV file into a DataFrame.\n",
    "4. **Display the first few rows of the DataFrame**: We use the `.head()` method to display the first few rows of the DataFrame.\n",
    "5. **Save the DataFrame to a new CSV file**: We use the `.to_csv()` method to save the DataFrame to a new CSV file."
   ]
  },
  {
   "cell_type": "code",
   "execution_count": 13,
   "metadata": {},
   "outputs": [
    {
     "name": "stdout",
     "output_type": "stream",
     "text": [
      "   Survived  Pclass                                               Name  \\\n",
      "0         0       3                             Mr. Owen Harris Braund   \n",
      "1         1       1  Mrs. John Bradley (Florence Briggs Thayer) Cum...   \n",
      "2         1       3                              Miss. Laina Heikkinen   \n",
      "3         1       1        Mrs. Jacques Heath (Lily May Peel) Futrelle   \n",
      "4         0       3                            Mr. William Henry Allen   \n",
      "\n",
      "      Sex   Age  Siblings/Spouses Aboard  Parents/Children Aboard     Fare  \n",
      "0    male  22.0                        1                        0   7.2500  \n",
      "1  female  38.0                        1                        0  71.2833  \n",
      "2  female  26.0                        0                        0   7.9250  \n",
      "3  female  35.0                        1                        0  53.1000  \n",
      "4    male  35.0                        0                        0   8.0500  \n"
     ]
    }
   ],
   "source": [
    "import pandas as pd\n",
    "\n",
    "# Define the URL of the CSV file\n",
    "csv_url = \"https://web.stanford.edu/class/archive/cs/cs109/cs109.1166/stuff/titanic.csv\"\n",
    "\n",
    "# Read the CSV file from the URL into a DataFrame\n",
    "df = pd.read_csv(csv_url)\n",
    "\n",
    "# Display the first few rows of the DataFrame\n",
    "print(df.head())\n",
    "\n",
    "# Save the DataFrame to a new CSV file\n",
    "df.to_csv(\"titanic_data.csv\", index=False)\n"
   ]
  },
  {
   "cell_type": "markdown",
   "metadata": {},
   "source": [
    "### Reading and Storing Data from a CSV File on the Internet (Example 2)\n",
    "\n",
    "In this example, we will read data from a CSV file available on the Internet and store it in a DataFrame using the `pandas` library in Python. The dataset we are using is the 126 Years of Historical Olympic Dataset, which contains information about the Olympic Games. The data source was obtained from: \n",
    "* https://www.kaggle.com/datasets/muhammadehsan02/126-years-of-historical-olympic-dataset\n"
   ]
  },
  {
   "cell_type": "code",
   "execution_count": 14,
   "metadata": {},
   "outputs": [
    {
     "name": "stdout",
     "output_type": "stream",
     "text": [
      "                   0         1     2     3     4      5         6     7     8  \\\n",
      "0                NaN  № Summer  01 !  02 !  03 !  Total  № Winter  01 !  02 !   \n",
      "1  Afghanistan (AFG)        13     0     0     2      2         0     0     0   \n",
      "2      Algeria (ALG)        12     5     2     8     15         3     0     0   \n",
      "3    Argentina (ARG)        23    18    24    28     70        18     0     0   \n",
      "4      Armenia (ARM)         5     1     2     9     12         6     0     0   \n",
      "\n",
      "      9     10       11    12    13    14              15  \n",
      "0  03 !  Total  № Games  01 !  02 !  03 !  Combined total  \n",
      "1     0      0       13     0     0     2               2  \n",
      "2     0      0       15     5     2     8              15  \n",
      "3     0      0       41    18    24    28              70  \n",
      "4     0      0       11     1     2     9              12  \n"
     ]
    }
   ],
   "source": [
    "import pandas as pd\n",
    "\n",
    "# Define the URL of the CSV file\n",
    "csv_url = \"https://raw.githubusercontent.com/rashida048/Datasets/master/olympics.csv\"\n",
    "\n",
    "# Read the CSV file from the URL into a DataFrame\n",
    "df = pd.read_csv(csv_url)\n",
    "\n",
    "# Display the first few rows of the DataFrame\n",
    "print(df.head())\n",
    "\n",
    "# Save the DataFrame to a new CSV file\n",
    "df.to_csv(\"olympic_data.csv\", index=False)\n"
   ]
  },
  {
   "cell_type": "markdown",
   "metadata": {},
   "source": [
    "![Image Description](./images/CategoricalVsNumerical.png)"
   ]
  },
  {
   "cell_type": "markdown",
   "metadata": {},
   "source": [
    "### Categorical vs. Numerical Variables\n",
    "\n",
    "1. **Categorical variables** represent categories or groups and are often non-numeric. In our dataset, 'Name' and 'Gender' are categorical variables.\n",
    "2. **Numerical variables** represent numeric values and can be either discrete or continuous. In our dataset, 'Age' and 'Salary' are numerical variables.\n",
    "\n",
    "In this example, we will demonstrate the difference between categorical and numerical variables using a sample dataset. \n",
    "The code below creates a sample dataset, separates the categorical and numerical variables, and displays them."
   ]
  },
  {
   "cell_type": "code",
   "execution_count": 14,
   "metadata": {},
   "outputs": [
    {
     "name": "stdout",
     "output_type": "stream",
     "text": [
      "Full Dataset:\n",
      "      Name  Age  Gender  Salary\n",
      "0    Alice   25  Female   50000\n",
      "1      Bob   30    Male   60000\n",
      "2  Charlie   35    Male   70000\n",
      "3    David   40    Male   80000\n",
      "4      Eva   22  Female   55000\n",
      "\n",
      "Categorical Variables:\n",
      "      Name  Gender\n",
      "0    Alice  Female\n",
      "1      Bob    Male\n",
      "2  Charlie    Male\n",
      "3    David    Male\n",
      "4      Eva  Female\n",
      "\n",
      "Numerical Variables:\n",
      "   Age  Salary\n",
      "0   25   50000\n",
      "1   30   60000\n",
      "2   35   70000\n",
      "3   40   80000\n",
      "4   22   55000\n"
     ]
    }
   ],
   "source": [
    "import pandas as pd\n",
    "\n",
    "# Create a sample dataset\n",
    "data = {\n",
    "    'Name': ['Alice', 'Bob', 'Charlie', 'David', 'Eva'],\n",
    "    'Age': [25, 30, 35, 40, 22],\n",
    "    'Gender': ['Female', 'Male', 'Male', 'Male', 'Female'],\n",
    "    'Salary': [50000, 60000, 70000, 80000, 55000]\n",
    "}\n",
    "\n",
    "# Convert the dataset into a DataFrame\n",
    "df = pd.DataFrame(data)\n",
    "\n",
    "# Display the DataFrame\n",
    "print(\"Full Dataset:\")\n",
    "print(df)\n",
    "\n",
    "# Separate categorical and numerical variables\n",
    "categorical_vars = df.select_dtypes(include=['object'])\n",
    "numerical_vars = df.select_dtypes(include=['int64', 'float64'])\n",
    "\n",
    "# Display categorical variables\n",
    "print(\"\\nCategorical Variables:\")\n",
    "print(categorical_vars)\n",
    "\n",
    "# Display numerical variables\n",
    "print(\"\\nNumerical Variables:\")\n",
    "print(numerical_vars)\n"
   ]
  },
  {
   "cell_type": "markdown",
   "metadata": {},
   "source": [
    "# Math, Calculus, and Trigonometry in Python\n",
    "\n",
    "In this example, we will demonstrate how to perform basic math, calculus, and trigonometry operations using Python. We will use the `math` library for basic math and trigonometry, and the `sympy` library for calculus.\n",
    "\n",
    "1. **Basic Math Operations**: Addition, subtraction, multiplication, division, and exponentiation.\n",
    "2. **Trigonometry**: Calculating sine, cosine, and tangent of an angle.\n",
    "3. **Calculus**: Differentiation and integration of functions.\n",
    "\n",
    "The code below demonstrates these operations.\n",
    "You can copy it into the Python command line."
   ]
  },
  {
   "cell_type": "code",
   "execution_count": 16,
   "metadata": {},
   "outputs": [
    {
     "name": "stdout",
     "output_type": "stream",
     "text": [
      "Basic Math Operations:\n",
      "Addition: 10 + 5 = 15\n",
      "Subtraction: 10 - 5 = 5\n",
      "Multiplication: 10 * 5 = 50\n",
      "Division: 10 / 5 = 2.0\n",
      "Exponentiation: 10 ** 5 = 100000\n",
      "\n",
      "Trigonometry:\n",
      "Sine of 45 degrees: 0.7071067811865476\n",
      "Cosine of 45 degrees: 0.7071067811865476\n",
      "Tangent of 45 degrees: 0.9999999999999999\n",
      "\n",
      "Calculus:\n",
      "Function: x**2 + 3*x + 2\n",
      "Derivative: 2*x + 3\n",
      "Integral: x**3/3 + 3*x**2/2 + 2*x\n"
     ]
    }
   ],
   "source": [
    "import math\n",
    "import sympy as sp\n",
    "\n",
    "# Basic Math Operations\n",
    "a = 10\n",
    "b = 5\n",
    "\n",
    "addition = a + b\n",
    "subtraction = a - b\n",
    "multiplication = a * b\n",
    "division = a / b\n",
    "exponentiation = a ** b\n",
    "\n",
    "print(\"Basic Math Operations:\")\n",
    "print(f\"Addition: {a} + {b} = {addition}\")\n",
    "print(f\"Subtraction: {a} - {b} = {subtraction}\")\n",
    "print(f\"Multiplication: {a} * {b} = {multiplication}\")\n",
    "print(f\"Division: {a} / {b} = {division}\")\n",
    "print(f\"Exponentiation: {a} ** {b} = {exponentiation}\")\n",
    "\n",
    "# Trigonometry\n",
    "angle = math.radians(45)  # Convert 45 degrees to radians\n",
    "\n",
    "sine = math.sin(angle)\n",
    "cosine = math.cos(angle)\n",
    "tangent = math.tan(angle)\n",
    "\n",
    "print(\"\\nTrigonometry:\")\n",
    "print(f\"Sine of 45 degrees: {sine}\")\n",
    "print(f\"Cosine of 45 degrees: {cosine}\")\n",
    "print(f\"Tangent of 45 degrees: {tangent}\")\n",
    "\n",
    "# Calculus\n",
    "x = sp.symbols('x')\n",
    "function = x**2 + 3*x + 2\n",
    "\n",
    "# Differentiation\n",
    "derivative = sp.diff(function, x)\n",
    "\n",
    "# Integration\n",
    "integral = sp.integrate(function, x)\n",
    "\n",
    "print(\"\\nCalculus:\")\n",
    "print(f\"Function: {function}\")\n",
    "print(f\"Derivative: {derivative}\")\n",
    "print(f\"Integral: {integral}\")\n"
   ]
  },
  {
   "cell_type": "markdown",
   "metadata": {},
   "source": [
    "![Image Description](./images/DataStructuresPython.png)"
   ]
  },
  {
   "cell_type": "markdown",
   "metadata": {},
   "source": [
    "# Python Commands for Concatenation, Repetition, and Sequence Generation on Arrays\n",
    "\n",
    "In this example, we will demonstrate how to:\n",
    "\n",
    "### Explanation:\n",
    "\n",
    "1. **Concatenate elements or sub-vectors**:\n",
    "   - **Lists**: We use the `+` operator to concatenate `list1` and `list2`.\n",
    "   - **Arrays**: We use `np.concatenate()` to concatenate `array1` and `array2`.\n",
    "\n",
    "2. **Repeat elements or patterns**:\n",
    "   - **Lists**: We use the `*` operator to repeat `list1` three times.\n",
    "   - **Arrays**: We use `np.tile()` to repeat `array1` three times.\n",
    "\n",
    "3. **Generate sequences**:\n",
    "   - **Lists**: We use `range()` to generate a sequence of numbers from 1 to 10.\n",
    "   - **Arrays**: We use `np.arange()` to generate a sequence of numbers from 1 to 10.\n",
    "\n",
    "This example demonstrates how to perform these common operations in Python. If you have any more questions or need further assistance, feel free to ask!\n",
    "The code below demonstrates these operations."
   ]
  },
  {
   "cell_type": "code",
   "execution_count": 15,
   "metadata": {},
   "outputs": [
    {
     "name": "stdout",
     "output_type": "stream",
     "text": [
      "Concatenated List: [1, 2, 3, 4, 5, 6]\n",
      "Concatenated Array: [1 2 3 4 5 6]\n",
      "Repeated List: [1, 2, 3, 1, 2, 3, 1, 2, 3]\n",
      "Repeated Array: [1 2 3 1 2 3 1 2 3]\n",
      "Sequence List: [1, 2, 3, 4, 5, 6, 7, 8, 9, 10]\n",
      "Sequence Array: [ 1  2  3  4  5  6  7  8  9 10]\n"
     ]
    }
   ],
   "source": [
    "import numpy as np\n",
    "\n",
    "# 1. Concatenate elements or sub-vectors\n",
    "list1 = [1, 2, 3]\n",
    "list2 = [4, 5, 6]\n",
    "concatenated_list = list1 + list2\n",
    "print(\"Concatenated List:\", concatenated_list)\n",
    "\n",
    "array1 = np.array([1, 2, 3])\n",
    "array2 = np.array([4, 5, 6])\n",
    "concatenated_array = np.concatenate((array1, array2))\n",
    "print(\"Concatenated Array:\", concatenated_array)\n",
    "\n",
    "# 2. Repeat elements or patterns\n",
    "repeated_list = list1 * 3\n",
    "print(\"Repeated List:\", repeated_list)\n",
    "\n",
    "repeated_array = np.tile(array1, 3)\n",
    "print(\"Repeated Array:\", repeated_array)\n",
    "\n",
    "# 3. Generate sequences\n",
    "sequence_list = list(range(1, 11))\n",
    "print(\"Sequence List:\", sequence_list)\n",
    "\n",
    "sequence_array = np.arange(1, 11)\n",
    "print(\"Sequence Array:\", sequence_array)\n"
   ]
  },
  {
   "cell_type": "markdown",
   "metadata": {},
   "source": [
    "# DataFrames in Python\n",
    "\n",
    "In Python, a Data Frame is created with help of the `pandas` library. A `pandas` DataFrame is a two-dimensional, size-mutable, and potentially heterogeneous tabular data structure with labeled axes (rows and columns).\n",
    "\n",
    "### Example\n",
    "\n",
    "The code below demonstrates how to create and manipulate a DataFrame in Python using `pandas`.\n",
    "\n",
    "* Creating a DataFrame: We create a dictionary with sample data and convert it into a DataFrame.\n",
    "* Displaying the DataFrame: We print the DataFrame to see its contents.\n",
    "* Accessing a specific column: We access the 'Age' column using `df['Age']`.\n",
    "* Filtering rows based on a condition: We filter rows where the 'Age' column is greater than 30.\n",
    "* Adding a new column: We add a new column 'Department' to the DataFrame."
   ]
  },
  {
   "cell_type": "code",
   "execution_count": 2,
   "metadata": {},
   "outputs": [
    {
     "name": "stdout",
     "output_type": "stream",
     "text": [
      "DataFrame:\n",
      "      Name  Age  Gender  Salary\n",
      "0    Alice   25  Female   50000\n",
      "1      Bob   30    Male   60000\n",
      "2  Charlie   35    Male   70000\n",
      "3    David   40    Male   80000\n",
      "4      Eva   22  Female   55000\n",
      "\n",
      "Ages:\n",
      "0    25\n",
      "1    30\n",
      "2    35\n",
      "3    40\n",
      "4    22\n",
      "Name: Age, dtype: int64\n",
      "\n",
      "Rows where Age > 30:\n",
      "      Name  Age Gender  Salary\n",
      "2  Charlie   35   Male   70000\n",
      "3    David   40   Male   80000\n",
      "\n",
      "DataFrame with new column:\n",
      "      Name  Age  Gender  Salary   Department\n",
      "0    Alice   25  Female   50000           HR\n",
      "1      Bob   30    Male   60000  Engineering\n",
      "2  Charlie   35    Male   70000    Marketing\n",
      "3    David   40    Male   80000      Finance\n",
      "4      Eva   22  Female   55000           HR\n"
     ]
    }
   ],
   "source": [
    "import pandas as pd\n",
    "\n",
    "# Create a sample DataFrame\n",
    "data = {\n",
    "    'Name': ['Alice', 'Bob', 'Charlie', 'David', 'Eva'],\n",
    "    'Age': [25, 30, 35, 40, 22],\n",
    "    'Gender': ['Female', 'Male', 'Male', 'Male', 'Female'],\n",
    "    'Salary': [50000, 60000, 70000, 80000, 55000]\n",
    "}\n",
    "\n",
    "# Convert the dictionary into a DataFrame\n",
    "df = pd.DataFrame(data)\n",
    "\n",
    "# Display the DataFrame\n",
    "print(\"DataFrame:\")\n",
    "print(df)\n",
    "\n",
    "# Accessing a specific column\n",
    "print(\"\\nAges:\")\n",
    "print(df['Age'])\n",
    "\n",
    "# Filtering rows based on a condition\n",
    "print(\"\\nRows where Age > 30:\")\n",
    "print(df[df['Age'] > 30])\n",
    "\n",
    "# Adding a new column\n",
    "df['Department'] = ['HR', 'Engineering', 'Marketing', 'Finance', 'HR']\n",
    "print(\"\\nDataFrame with new column:\")\n",
    "print(df)\n"
   ]
  },
  {
   "cell_type": "code",
   "execution_count": 4,
   "metadata": {},
   "outputs": [
    {
     "data": {
      "text/html": [
       "<style type=\"text/css\">\n",
       "#T_cd4d6 thead th {\n",
       "  background-color: lightblue;\n",
       "  color: black;\n",
       "  font-weight: bold;\n",
       "}\n",
       "#T_cd4d6 tbody td {\n",
       "  border: 1px solid black;\n",
       "}\n",
       "#T_cd4d6_row0_col0, #T_cd4d6_row0_col1, #T_cd4d6_row0_col2, #T_cd4d6_row0_col3, #T_cd4d6_row1_col0, #T_cd4d6_row1_col1, #T_cd4d6_row1_col2, #T_cd4d6_row1_col3, #T_cd4d6_row4_col0, #T_cd4d6_row4_col1, #T_cd4d6_row4_col2, #T_cd4d6_row4_col3 {\n",
       "  font-family: Arial;\n",
       "  font-size: 14px;\n",
       "}\n",
       "#T_cd4d6_row2_col0, #T_cd4d6_row2_col1, #T_cd4d6_row2_col2, #T_cd4d6_row2_col3, #T_cd4d6_row3_col0, #T_cd4d6_row3_col1, #T_cd4d6_row3_col2, #T_cd4d6_row3_col3 {\n",
       "  background-color: blue;\n",
       "  font-family: Arial;\n",
       "  font-size: 14px;\n",
       "}\n",
       "</style>\n",
       "<table id=\"T_cd4d6\">\n",
       "  <thead>\n",
       "    <tr>\n",
       "      <th class=\"blank level0\" >&nbsp;</th>\n",
       "      <th id=\"T_cd4d6_level0_col0\" class=\"col_heading level0 col0\" >Name</th>\n",
       "      <th id=\"T_cd4d6_level0_col1\" class=\"col_heading level0 col1\" >Age</th>\n",
       "      <th id=\"T_cd4d6_level0_col2\" class=\"col_heading level0 col2\" >Gender</th>\n",
       "      <th id=\"T_cd4d6_level0_col3\" class=\"col_heading level0 col3\" >Salary</th>\n",
       "    </tr>\n",
       "  </thead>\n",
       "  <tbody>\n",
       "    <tr>\n",
       "      <th id=\"T_cd4d6_level0_row0\" class=\"row_heading level0 row0\" >0</th>\n",
       "      <td id=\"T_cd4d6_row0_col0\" class=\"data row0 col0\" >Alice</td>\n",
       "      <td id=\"T_cd4d6_row0_col1\" class=\"data row0 col1\" >25</td>\n",
       "      <td id=\"T_cd4d6_row0_col2\" class=\"data row0 col2\" >Female</td>\n",
       "      <td id=\"T_cd4d6_row0_col3\" class=\"data row0 col3\" >50000</td>\n",
       "    </tr>\n",
       "    <tr>\n",
       "      <th id=\"T_cd4d6_level0_row1\" class=\"row_heading level0 row1\" >1</th>\n",
       "      <td id=\"T_cd4d6_row1_col0\" class=\"data row1 col0\" >Bob</td>\n",
       "      <td id=\"T_cd4d6_row1_col1\" class=\"data row1 col1\" >30</td>\n",
       "      <td id=\"T_cd4d6_row1_col2\" class=\"data row1 col2\" >Male</td>\n",
       "      <td id=\"T_cd4d6_row1_col3\" class=\"data row1 col3\" >60000</td>\n",
       "    </tr>\n",
       "    <tr>\n",
       "      <th id=\"T_cd4d6_level0_row2\" class=\"row_heading level0 row2\" >2</th>\n",
       "      <td id=\"T_cd4d6_row2_col0\" class=\"data row2 col0\" >Charlie</td>\n",
       "      <td id=\"T_cd4d6_row2_col1\" class=\"data row2 col1\" >35</td>\n",
       "      <td id=\"T_cd4d6_row2_col2\" class=\"data row2 col2\" >Male</td>\n",
       "      <td id=\"T_cd4d6_row2_col3\" class=\"data row2 col3\" >70000</td>\n",
       "    </tr>\n",
       "    <tr>\n",
       "      <th id=\"T_cd4d6_level0_row3\" class=\"row_heading level0 row3\" >3</th>\n",
       "      <td id=\"T_cd4d6_row3_col0\" class=\"data row3 col0\" >David</td>\n",
       "      <td id=\"T_cd4d6_row3_col1\" class=\"data row3 col1\" >40</td>\n",
       "      <td id=\"T_cd4d6_row3_col2\" class=\"data row3 col2\" >Male</td>\n",
       "      <td id=\"T_cd4d6_row3_col3\" class=\"data row3 col3\" >80000</td>\n",
       "    </tr>\n",
       "    <tr>\n",
       "      <th id=\"T_cd4d6_level0_row4\" class=\"row_heading level0 row4\" >4</th>\n",
       "      <td id=\"T_cd4d6_row4_col0\" class=\"data row4 col0\" >Eva</td>\n",
       "      <td id=\"T_cd4d6_row4_col1\" class=\"data row4 col1\" >22</td>\n",
       "      <td id=\"T_cd4d6_row4_col2\" class=\"data row4 col2\" >Female</td>\n",
       "      <td id=\"T_cd4d6_row4_col3\" class=\"data row4 col3\" >55000</td>\n",
       "    </tr>\n",
       "  </tbody>\n",
       "</table>\n"
      ],
      "text/plain": [
       "<pandas.io.formats.style.Styler at 0x16f3e2e35d0>"
      ]
     },
     "execution_count": 4,
     "metadata": {},
     "output_type": "execute_result"
    }
   ],
   "source": [
    "import pandas as pd\n",
    "\n",
    "# Create a sample DataFrame\n",
    "data = {\n",
    "    'Name': ['Alice', 'Bob', 'Charlie', 'David', 'Eva'],\n",
    "    'Age': [25, 30, 35, 40, 22],\n",
    "    'Gender': ['Female', 'Male', 'Male', 'Male', 'Female'],\n",
    "    'Salary': [50000, 60000, 70000, 80000, 55000]\n",
    "}\n",
    "\n",
    "# Convert the dictionary into a DataFrame\n",
    "df = pd.DataFrame(data)\n",
    "\n",
    "# Define a function to highlight rows based on a condition\n",
    "def highlight_age(row):\n",
    "    return ['background-color: blue' if row.Age > 30 else '' for _ in row]\n",
    "\n",
    "# Apply the styling\n",
    "styled_df = df.style.apply(highlight_age, axis=1)\\\n",
    "                    .set_table_styles([\n",
    "                        {'selector': 'thead th', 'props': [('background-color', 'lightblue'), ('color', 'black'), ('font-weight', 'bold')]},\n",
    "                        {'selector': 'tbody td', 'props': [('border', '1px solid black')]}\n",
    "                    ])\\\n",
    "                    .set_properties(**{'font-family': 'Arial', 'font-size': '14px'})\n",
    "\n",
    "# Display the styled DataFrame\n",
    "styled_df\n"
   ]
  },
  {
   "cell_type": "markdown",
   "metadata": {},
   "source": [
    "![Image Description](./images/DataExploration.png)"
   ]
  },
  {
   "cell_type": "code",
   "execution_count": 17,
   "metadata": {},
   "outputs": [
    {
     "name": "stdout",
     "output_type": "stream",
     "text": [
      "First few rows of the dataset:\n",
      "    X1  X2   X3\n",
      "0  132  52  173\n",
      "1  143  59  184\n",
      "2  153  67  194\n",
      "3  162  73  211\n",
      "4  154  64  196\n",
      "\n",
      "Summary statistics:\n",
      "               X1         X2          X3\n",
      "count   11.000000  11.000000   11.000000\n",
      "mean   150.090909  62.454545  195.000000\n",
      "std     13.626845   9.114424   17.314734\n",
      "min    128.000000  46.000000  167.000000\n",
      "25%    140.000000  56.500000  186.000000\n",
      "50%    153.000000  64.000000  194.000000\n",
      "75%    160.500000  69.500000  209.000000\n",
      "max    168.000000  74.000000  220.000000\n"
     ]
    },
    {
     "data": {
      "image/png": "[encoded data removed]",
      "text/plain": [
       "<Figure size 1000x600 with 1 Axes>"
      ]
     },
     "metadata": {},
     "output_type": "display_data"
    }
   ],
   "source": [
    "import pandas as pd\n",
    "import matplotlib.pyplot as plt\n",
    "\n",
    "# Load the CSV file into a DataFrame\n",
    "df = pd.read_csv(\"./data/Systolic1.csv\")\n",
    "\n",
    "# Preliminary inspection\n",
    "print(\"First few rows of the dataset:\")\n",
    "print(df.head())\n",
    "\n",
    "print(\"\\nSummary statistics:\")\n",
    "print(df.describe())\n",
    "\n",
    "# Calculate measures of central tendency\n",
    "mean_values = df.mean()\n",
    "median_values = df.median()\n",
    "mode_values = df.mode().iloc[0]  # mode() returns a DataFrame\n",
    "\n",
    "# Plotting with matplotlib\n",
    "labels = mean_values.index\n",
    "x = range(len(labels))\n",
    "\n",
    "plt.figure(figsize=(10, 6))\n",
    "plt.bar(x, mean_values.values, width=0.2, label='Mean', align='center')\n",
    "plt.bar([i + 0.2 for i in x], median_values.values, width=0.2, label='Median', align='center')\n",
    "plt.bar([i + 0.4 for i in x], mode_values.values, width=0.2, label='Mode', align='center')\n",
    "\n",
    "plt.xticks([i + 0.2 for i in x], labels)\n",
    "plt.xlabel('Variables')\n",
    "plt.ylabel('Values')\n",
    "plt.title('Measures of Central Tendency')\n",
    "plt.legend()\n",
    "plt.tight_layout()\n",
    "plt.show()\n"
   ]
  },
  {
   "cell_type": "markdown",
   "metadata": {},
   "source": [
    "## 📊 Dataset Overview: Systolic1.csv\n",
    "\n",
    "The dataset `Systolic1.csv` contains three columns labeled **X1**, **X2**, and **X3**, each representing numerical values that appear to be physiological measurements. While the column names are generic, we can begin exploring and interpreting their meaning based on typical ranges and relationships found in cardiovascular data.\n",
    "\n",
    "### 🔍 Initial Interpretations\n",
    "\n",
    "| Column | Sample Values | Possible Interpretation |\n",
    "|--------|----------------|--------------------------|\n",
    "| **X1** | 132, 143, 153, ... | Likely **Systolic Blood Pressure** (mmHg) |\n",
    "| **X2** | 52, 59, 67, ...    | Possibly **Diastolic Blood Pressure** (mmHg) |\n",
    "| **X3** | 173, 184, 194, ... | Could be **Heart Rate**, **Pulse Pressure**, or another derived cardiovascular metric |\n",
    "\n",
    "These interpretations are based on:\n",
    "\n",
    "- **Typical physiological ranges**:  \n",
    "  - Systolic pressure usually ranges from 90 to 140 mmHg in healthy adults, though higher values may occur.\n",
    "  - Diastolic pressure typically ranges from 60 to 90 mmHg.\n",
    "  - The values in **X3** are higher and may represent a derived metric such as **pulse pressure** (difference between systolic and diastolic), **cardiac output**, or **heart rate**.\n",
    "\n",
    "- **Data patterns**:  \n",
    "  The values in each column follow consistent patterns that align with known cardiovascular measurements, suggesting these are likely health-related metrics.\n",
    "\n",
    "### 🧭 Next Steps\n",
    "\n",
    "Further exploration could include:\n",
    "\n",
    "- Checking for correlations between the columns.\n",
    "- Comparing distributions and dispersion measures.\n",
    "- Validating interpretations with domain knowledge or metadata (if available).\n",
    "\n",
    "This initial analysis helps guide how we process and visualize the data in subsequent steps.\n"
   ]
  },
  {
   "cell_type": "markdown",
   "metadata": {},
   "source": [
    "## 📌 Central Tendency\n",
    "\n",
    "**Mean**, **Median**, **Mode**\n",
    "\n",
    "These are **measures of location** — the first way of numerically identifying or characterizing a distribution or data set.\n",
    "\n",
    "---\n",
    "\n",
    "### 🔍 Summarizing Data\n",
    "\n",
    "- The **mean** is a measure of central tendency. It is what most people commonly refer to as the **“average.”**\n",
    "- The **median** is a measure of central tendency that divides a dataset into two equal halves.\n",
    "- The **mode** is a measure of central tendency that represents the **most frequently occurring value** in a dataset.\n",
    "\n",
    "\n",
    "---\n"
   ]
  },
  {
   "cell_type": "markdown",
   "metadata": {},
   "source": [
    "### 🧮 Mean: Mathematical Definition\n",
    "\n",
    "The **mean** (often called the \"average\") is a measure of central tendency defined mathematically as:\n",
    "\n",
    "$$\n",
    " \\mu = \\bar{x} = \\frac{1}{n} \\sum_{i=1}^{n} x_i\n",
    "$$\n",
    "\n",
    "\n",
    "Where:\n",
    "- $\\mu$ is the **population mean**, the average of all the values in a **population**\n",
    "- $\\bar{x}$ is the **sample mean**, the average of all the values in a **sample**\n",
    "- $x_i$ are the individual data points\n",
    "- $n$ is the number of data points\n",
    "\n",
    "> ⚠️ **Important Concept**\n",
    "\n",
    "**The difference between a population and a sample is crucial in statistics**,  \n",
    "as it determines how data is **collected**, **analyzed**, and **interpreted**.\n",
    "\n",
    "\n",
    "### 📐 How to Calculate the Mean\n",
    "\n",
    "To compute the mean:\n",
    "1. **Add up all the values** in the dataset.\n",
    "2. **Divide** the total by the **number of values**.\n",
    "\n",
    "#### Example:\n",
    "If your data points are:  \n",
    "45, 50, 55, 60, 65\n",
    "\n",
    "Then:\n",
    "\n",
    "$$\n",
    "\\text{Mean} = \\frac{45 + 50 + 55 + 60 + 65}{5} = \\frac{275}{5} = 55\n",
    "$$\n",
    "\n",
    "\n"
   ]
  },
  {
   "cell_type": "markdown",
   "metadata": {},
   "source": [
    "### 🧠 Challenge #1: Interpret the Mean\n",
    "\n",
    "Write a function called `interpret_mean` that uses the `df` DataFrame and calculates the **mean** of the `X2` attribute.\n",
    "\n",
    "📌 **Instructions**:\n",
    "- Define the function in the code cell below.\n",
    "- Use `df['X2'].mean()` to compute the mean.\n",
    "- After the function, call it using the appropriate parameters\n",
    "- Optionally, print or return the result with a short interpretation.\n",
    "\n",
    "#### 💻 Write the code in the cell below:\n",
    "\n"
   ]
  },
  {
   "cell_type": "code",
   "execution_count": 20,
   "metadata": {},
   "outputs": [],
   "source": [
    "## 📋 Mean Interpretation\n",
    "def interpret_mean(df):\n",
    "    pass"
   ]
  },
  {
   "cell_type": "markdown",
   "metadata": {},
   "source": [
    "---\n",
    "\n",
    "### 🧮 Median: Mathematical Definition\n",
    "\n",
    "- **50% of the samples are above the median**\n",
    "- **50% of the samples are below the median**\n",
    "\n",
    "This makes the median a useful indicator of the **center** of a distribution, especially when the data contains **outliers** or is **skewed**.\n",
    "\n",
    "\n",
    "### 📋 Median Interpretation\n",
    "\n",
    "| Description                          | Interpretation                          |\n",
    "|--------------------------------------|------------------------------------------|\n",
    "| Median value                         | Middle value in an ordered dataset       |\n",
    "| If number of values is **odd**       | Median is the middle value               |\n",
    "| If number of values is **even**      | Median is the average of the two middle values |\n",
    "| Use case                             | Useful when data has outliers or is skewed |\n",
    "\n",
    "\n",
    "### 📊 Example — Median of 200-Meter Running Times\n",
    "\n",
    "### Rank Associated with Each Value\n",
    "\n",
    "| Rank | Time (in seconds) |\n",
    "|------|-------------------|\n",
    "| 1    | 24.1              |\n",
    "| 2    | 25.0              |\n",
    "| 3    | 25.2              |\n",
    "| 4    | 25.6              |\n",
    "| 5    | 25.7              |\n",
    "| 6    | 26.1              |\n",
    "| 7    | 27.8              |\n",
    "\n",
    "\n",
    "### 🧮 Median Calculation\n",
    "\n",
    "There are \\( n = 7 \\) data points, which is an **odd** number.\n",
    "\n",
    "To find the median, use the formula:\n",
    "\n",
    "$$\n",
    "\\text{Median position} = \\frac{n + 1}{2} = \\frac{7 + 1}{2} = 4\n",
    "$$\n",
    "\n",
    "So, the **median time** is the value at **Rank 4**, which is:\n",
    "\n",
    "**25.6 seconds**\n"
   ]
  },
  {
   "cell_type": "markdown",
   "metadata": {},
   "source": [
    "### 🧠 Challenge #2: Interpret the Median\n",
    "\n",
    "Write a function called `interpret_median` that uses the `df` DataFrame and calculates the **median** of the `X2` attribute.\n",
    "\n",
    "📌 **Instructions**:\n",
    "- Define the function in the code cell below.\n",
    "- Use `df['X2'].median()` to compute the mean.\n",
    "- After the function, call it using the appropriate parameters\n",
    "- Optionally, print or return the result with a short interpretation.\n",
    "\n",
    "#### 💻 Write the code in the cell below:"
   ]
  },
  {
   "cell_type": "code",
   "execution_count": null,
   "metadata": {},
   "outputs": [],
   "source": [
    "## 📋 Median Interpretation\n",
    "def interpret_median(df):\n",
    "    pass"
   ]
  },
  {
   "cell_type": "markdown",
   "metadata": {},
   "source": [
    "---\n",
    "\n",
    "### 🧠 Mode: Mathematical Definition\n",
    "\n",
    "- The mode is the value that appears **most often**.\n",
    "- It is useful for identifying **common patterns** or **popular categories** in data.\n",
    "\n",
    "\n",
    "### 🩺 Example Use Case: Blood Type Distribution\n",
    "A hospital wants to ensure they have an adequate supply of different blood types for transfusions.  \n",
    "To do this, they need to know which blood type is **most common** among their patient population.\n",
    "\n",
    "#### Example Data:\n",
    "\n",
    "| Blood Type | Number of Patients |\n",
    "|------------|--------------------|\n",
    "| A          | 120                |\n",
    "| B          | 80                 |\n",
    "| AB         | 40                 |\n",
    "| O          | 160                |\n",
    "\n",
    "\n",
    "\n",
    "### ✅ Mode Calculation\n",
    "\n",
    "- Blood Type O appears **160 times**\n",
    "- Blood Type A appears **120 times**\n",
    "- Blood Type B appears **80 times**\n",
    "- Blood Type AB appears **40 times**\n",
    "\n",
    "**🩸 The mode is Blood Type O**, as it is the most common blood type among the patients.\n"
   ]
  },
  {
   "cell_type": "markdown",
   "metadata": {},
   "source": [
    "### 🧠 Challenge #3: Interpret the Mode\n",
    "\n",
    "Write a function called `interpret_mode` that uses the `df` DataFrame and calculates the **mode** of the `X1` attribute.\n",
    "\n",
    "📌 **Instructions**:\n",
    "- Define the function in the code cell below.\n",
    "- Use `df['X2'].mode()` to compute the mean.\n",
    "- After the function, call it using the appropriate parameters\n",
    "- Optionally, print or return the result with a short interpretation.\n",
    "\n",
    "#### 💻 Write the code in the cell below:"
   ]
  },
  {
   "cell_type": "code",
   "execution_count": null,
   "metadata": {},
   "outputs": [],
   "source": [
    "## 📋 Mode Interpretation\n",
    "def interpret_mode(df):\n",
    "    pass"
   ]
  },
  {
   "cell_type": "markdown",
   "metadata": {},
   "source": [
    "---\n",
    "\n",
    "### 📌 Summary\n",
    "\n",
    "- The **mean** gives a central value that represents the dataset.\n",
    "- It is sensitive to **outliers**, which can skew the result.\n",
    "- Commonly used in both descriptive and inferential statistics.\n"
   ]
  },
  {
   "cell_type": "markdown",
   "metadata": {},
   "source": [
    "### 🧠 Challenge #4: Data Exploration\n",
    "\n",
    "Look at the Machine Learning Operations life cycle diagram below.\n",
    "\n",
    "![Image Description](./images/MachineLearningOperationsLifeCycle.png)\n",
    "\n",
    "Understand the **Product Initiation** and **Data Exploration** phases.\n",
    "Write code to read and load the `titanic data` data set into a Pandas-based data structure, `interpret_median`, understand the `meta data` and print the **initial exploration** like the top 5 rows and the `description`. Then make an interpretation of the data set and prepare a pitch about the use case. \n",
    "\n",
    "📌 **Instructions**:\n",
    "- Read and load the data set.\n",
    "- `Interpret` the data set, its attributes and their respective measures of `Central Tendency`.\n",
    "- Prepare a 50-word summary of the `Use Case` described by the `Data Set`\n",
    "\n",
    "#### 💻 Write the summary in the cell below:"
   ]
  },
  {
   "cell_type": "markdown",
   "metadata": {},
   "source": [
    "#### ✅ Challenge #4: Summary of the Use Case\n",
    "\n",
    "TODO - add the summary here"
   ]
  },
  {
   "cell_type": "markdown",
   "metadata": {},
   "source": [
    "### 🧠 Challenge #5: Object-Oriented Python\n",
    "\n",
    "Re-use the code you write for challenges 1, 2 and 3, and the `interpret_mean`, `interpret_median`, and `interpret_mode` and make them **attributes** of a new class called `CentralTendency`and the `Titanic data set`.\n",
    "\n",
    "📌 **Instructions**:\n",
    "- Define the class in the code cell below.\n",
    "- Add a `constructor` and the three attributes to the class, each one with the proper parameters and return values.\n",
    "- After the class, instantiate an object of class `CentralTendency` called `stats`\n",
    "- Feed the data in the `df` data structure to the object, and have the code print the mean, median, and mode.\n",
    "\n",
    "#### 💻 Write the code in the cell below:"
   ]
  },
  {
   "cell_type": "code",
   "execution_count": null,
   "metadata": {},
   "outputs": [],
   "source": [
    "## 📋 Central Tendency calculator\n",
    "\n",
    "import pandas as pd\n",
    "\n",
    "# Load the dataset (already done in previous cells)\n",
    "# df = pd.read_csv(\"Systolic1.csv\")\n",
    "\n",
    "# Define the CentralTendency class\n",
    "class CentralTendency:\n",
    "    def __init__(self, dataframe):\n",
    "        pass\n",
    "\n",
    "    def interpret_mean(self):\n",
    "        pass\n",
    "\n",
    "    def interpret_median(self):\n",
    "        pass\n",
    "\n",
    "    def interpret_mode(self):\n",
    "        pass\n",
    "\n",
    "# Instantiate the class\n",
    "# TODO \n",
    "\n",
    "# Print the results\n",
    "# TODO"
   ]
  },
  {
   "cell_type": "markdown",
   "metadata": {},
   "source": [
    "## 📌 Measures of Dispersion\n",
    "\n",
    "**Range**, **Quartiles**, **Deviation**, **Variance**, **Standard Deviation**\n",
    "\n",
    "These are **measures of dispersion** — second way of numerically identifying or characterizing a distribution or a set of data. How spread out, or tightly clustered, the data is.\n",
    "\n",
    "---\n",
    "\n",
    "### 🔍 Summarizing Data\n",
    "\n",
    "- The **range** is the difference between the **lowest** and **highest** values.\n",
    "- The **variance** of a set of numbers is the **average of the square of the deviations from the mean**.\n",
    "- The **standard deviation** of a set of numbers is the **positive square root of the variance**.\n",
    "- **Quartiles** divide a ranked dataset into **four equal parts**, each containing 25% of the data.\n",
    "\n",
    "\n",
    "---\n"
   ]
  },
  {
   "cell_type": "markdown",
   "metadata": {},
   "source": [
    "### 🧮 Range: Mathematical Definition\n",
    "\n",
    "The **range** is a measure of dispersion that describes the spread between the smallest and largest values in a dataset.\n",
    "\n",
    "### Formula:\n",
    "\n",
    "$$\n",
    "\\text{Range} = \\max(x) - \\min(x)\n",
    "$$\n",
    "\n",
    "Where:\n",
    "- $\\max(x)$ is the maximum value in the dataset\n",
    "- $\\min(x)$ is the minimum value in the dataset\n",
    "\n",
    "\n",
    "### 📊 Example — Range of 200-Meter Running Times\n",
    "\n",
    "\n",
    "Given the dataset:\n",
    "\n",
    "$$\n",
    "x = \\{24.1,\\ 25.0,\\ 25.2,\\ 25.6,\\ 25.7,\\ 26.1,\\ 27.8\\}\n",
    "$$\n",
    "\n",
    "We compute:\n",
    "\n",
    "$$\n",
    "\\max(x) = 27.8,\\quad \\min(x) = 24.1\n",
    "$$\n",
    "\n",
    "So the range is:\n",
    "\n",
    "$$\n",
    "\\text{Range} = 27.8 - 24.1 = 3.7\n",
    "$$\n",
    "**✅ The range of this dataset is 3.7 seconds.**\n",
    "\n"
   ]
  },
  {
   "cell_type": "code",
   "execution_count": null,
   "metadata": {},
   "outputs": [
    {
     "name": "stdout",
     "output_type": "stream",
     "text": [
      "The range of X2 is 28, calculated as the difference between the maximum value (74) and the minimum value (46). This indicates the spread of the data.\n"
     ]
    }
   ],
   "source": [
    "import pandas as pd\n",
    "\n",
    "# Load the dataset\n",
    "# Assumes df = pd.read_csv(\"Systolic1.csv\")\n",
    "\n",
    "# Define a function to interpret the range of the X2 column\n",
    "def interpret_range(dataframe):\n",
    "    min_val = dataframe['X2'].min()\n",
    "    max_val = dataframe['X2'].max()\n",
    "    range_val = max_val - min_val\n",
    "    return f\"The range of X2 is {range_val}, calculated as the difference between the maximum value ({max_val}) and the minimum value ({min_val}). This indicates the spread of the data.\"\n",
    "\n",
    "# Call the function and print the interpretation\n",
    "print(interpret_range(df))\n",
    "\n",
    "# TODO  - Implement the method to calculate and interpret the range by charting it"
   ]
  },
  {
   "cell_type": "markdown",
   "metadata": {},
   "source": [
    "### 🧮 Variance: Mathematical Definition\n",
    "\n",
    "The **variance** of a set of numbers is the average of the square of the deviations from the mean.\n",
    "\n",
    "### Formula:\n",
    "\n",
    "For a dataset with \\( n \\) values \\( x_1, x_2, \\ldots, x_n \\), and mean \\( \\bar{x} \\), the **sample variance** is defined as:\n",
    "\n",
    "$$\n",
    "s^2 = \\frac{1}{n - 1} \\sum_{i=1}^{n} (x_i - \\bar{x})^2\n",
    "$$\n",
    "\n",
    "Where:\n",
    "- $s^2$ is the sample variance\n",
    "- $x_i$ are the individual data points\n",
    "- $\\bar{x}$ is the sample mean\n",
    "- $ n $ is the number of data points\n",
    "\n",
    "\n",
    "#### ✅ Interpretation\n",
    "\n",
    "Variance quantifies how much the data points in a sample or population differ from the mean.  \n",
    "- A **higher variance** indicates more spread in the data\n",
    "- A **lower variance** suggests the data points are closer to the mean.\n",
    "\n"
   ]
  },
  {
   "cell_type": "code",
   "execution_count": 25,
   "metadata": {},
   "outputs": [
    {
     "name": "stdout",
     "output_type": "stream",
     "text": [
      "The variance of X2 is 83.07. This value quantifies how much the X2 values deviate from their mean, indicating the spread of the data.\n"
     ]
    }
   ],
   "source": [
    "import pandas as pd\n",
    "\n",
    "# Load the dataset\n",
    "# Assumes df = pd.read_csv(\"Systolic1.csv\")\n",
    "\n",
    "# Define a function to interpret the variance of the X2 column\n",
    "def interpret_variance(dataframe):\n",
    "    variance_val = dataframe['X2'].var()\n",
    "    return f\"The variance of X2 is {variance_val:.2f}. This value quantifies how much the X2 values deviate from their mean, indicating the spread of the data.\"\n",
    "\n",
    "# Call the function and print the interpretation\n",
    "print(interpret_variance(df))\n",
    "\n",
    "\n",
    "# TODO - Implement the method to calculate and interpret the variance by charting it"
   ]
  },
  {
   "cell_type": "markdown",
   "metadata": {},
   "source": [
    "### 🧮 Standard Deviation: Mathematical Definition\n",
    "\n",
    "The **standard deviation** is the square root of the variance.  \n",
    "It measures how much the data values deviate from the mean on average.\n",
    "\n",
    "For a dataset with $n$ values $x_1, x_2, \\ldots, x_n$, and mean $\\bar{x}$, the **sample standard deviation** is:\n",
    "\n",
    "$$\n",
    "s = \\sqrt{ \\frac{1}{n - 1} \\sum_{i=1}^{n} (x_i - \\bar{x})^2 }\n",
    "$$\n",
    "\n",
    "Where:\n",
    "- $s$ is the sample standard deviation\n",
    "- $x_i$ are the individual data points\n",
    "- $bar{x}$ is the sample mean\n",
    "- $n$ is the number of data points\n",
    "\n",
    "### 📌 Interpretation\n",
    "\n",
    "It is another measure of the spread or dispersion of a set of data points. It quantifies the amount of variation or dispersion of a set of values. Like variance, it provides insight into how much the data deviates from the mean.\n",
    "\n",
    "- A **low standard deviation** means the data points are close to the mean.\n",
    "- A **high standard deviation** indicates the data is more spread out.\n",
    "- It is widely used in statistics to understand variability and consistency.\n"
   ]
  },
  {
   "cell_type": "code",
   "execution_count": null,
   "metadata": {},
   "outputs": [
    {
     "name": "stdout",
     "output_type": "stream",
     "text": [
      "Standard Deviation of X2: 9.114424132808791\n"
     ]
    }
   ],
   "source": [
    "import pandas as pd\n",
    "\n",
    "# Load the dataset\n",
    "# Assumes df = pd.read_csv(\"Systolic1.csv\")\n",
    "\n",
    "# Compute the standard deviation of the X2 column\n",
    "std_dev_x2 = df['X2'].std()\n",
    "\n",
    "# Print the result\n",
    "print(\"Standard Deviation of X2:\", std_dev_x2)\n",
    "\n",
    "# TODO - Implement the method to calculate and interpret the standard deviation by charting it\n"
   ]
  },
  {
   "cell_type": "markdown",
   "metadata": {},
   "source": [
    "### 🧮 Quartiles: Definitions\n",
    "\n",
    "**Quartiles** divide a ranked dataset into four equal parts, each containing 25% of the data.\n",
    "\n",
    "- **Q1 (First Quartile)**: 25% of the data falls below this value.\n",
    "- **Q2 (Second Quartile / Median)**: 50% of the data falls below this value.\n",
    "- **Q3 (Third Quartile)**: 75% of the data falls below this value.\n",
    "- **IQR (Interquartile Range)**: Difference between Q3 and Q1.\n",
    "\n",
    "$$\n",
    "\\text{IQR} = Q_3 - Q_1\n",
    "$$\n",
    "\n",
    "\n",
    "### 📌 Interpretation\n",
    "\n",
    "- Quartiles help identify the **spread** and **skewness** of data.\n",
    "- The **IQR** is useful for detecting **outliers** and understanding variability.\n",
    "\n"
   ]
  },
  {
   "cell_type": "code",
   "execution_count": null,
   "metadata": {},
   "outputs": [
    {
     "name": "stdout",
     "output_type": "stream",
     "text": [
      "First Quartile (Q1): 56.5\n",
      "Second Quartile (Q2 / Median): 64.0\n",
      "Third Quartile (Q3): 69.5\n",
      "Interquartile Range (IQR): 13.0\n"
     ]
    }
   ],
   "source": [
    "import pandas as pd\n",
    "\n",
    "# Load the dataset\n",
    "# Assumes df = pd.read_csv(\"Systolic1.csv\")\n",
    "\n",
    "# Compute quartiles and IQR for the X2 column\n",
    "q1 = df['X2'].quantile(0.25)\n",
    "q2 = df['X2'].quantile(0.50)  # Median\n",
    "q3 = df['X2'].quantile(0.75)\n",
    "iqr = q3 - q1\n",
    "\n",
    "# Print the results\n",
    "print(\"First Quartile (Q1):\", q1)\n",
    "print(\"Second Quartile (Q2 / Median):\", q2)\n",
    "print(\"Third Quartile (Q3):\", q3)\n",
    "print(\"Interquartile Range (IQR):\", iqr)\n",
    "\n",
    "# TODO - Implement the method to calculate and interpret the standard deviation by charting it"
   ]
  }
 ],
 "metadata": {
  "kernelspec": {
   "display_name": ".venv",
   "language": "python",
   "name": "python3"
  },
  "language_info": {
   "codemirror_mode": {
    "name": "ipython",
    "version": 3
   },
   "file_extension": ".py",
   "mimetype": "text/x-python",
   "name": "python",
   "nbconvert_exporter": "python",
   "pygments_lexer": "ipython3",
   "version": "3.12.1"
  }
 },
 "nbformat": 4,
 "nbformat_minor": 2
}
